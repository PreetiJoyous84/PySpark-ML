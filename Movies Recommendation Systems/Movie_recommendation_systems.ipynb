{
  "nbformat": 4,
  "nbformat_minor": 0,
  "metadata": {
    "colab": {
      "name": "Movie recommendation systems.ipynb",
      "provenance": []
    },
    "kernelspec": {
      "name": "python3",
      "display_name": "Python 3"
    },
    "language_info": {
      "name": "python"
    }
  },
  "cells": [
    {
      "cell_type": "code",
      "metadata": {
        "colab": {
          "base_uri": "https://localhost:8080/"
        },
        "id": "AJ0mpN04v5Nl",
        "outputId": "ce21f448-989b-4c53-f802-6c2b5d7b93df"
      },
      "source": [
        "!pip install pyspark "
      ],
      "execution_count": null,
      "outputs": [
        {
          "output_type": "stream",
          "text": [
            "Collecting pyspark\n",
            "\u001b[?25l  Downloading https://files.pythonhosted.org/packages/45/b0/9d6860891ab14a39d4bddf80ba26ce51c2f9dc4805e5c6978ac0472c120a/pyspark-3.1.1.tar.gz (212.3MB)\n",
            "\u001b[K     |████████████████████████████████| 212.3MB 69kB/s \n",
            "\u001b[?25hCollecting py4j==0.10.9\n",
            "\u001b[?25l  Downloading https://files.pythonhosted.org/packages/9e/b6/6a4fb90cd235dc8e265a6a2067f2a2c99f0d91787f06aca4bcf7c23f3f80/py4j-0.10.9-py2.py3-none-any.whl (198kB)\n",
            "\u001b[K     |████████████████████████████████| 204kB 45.0MB/s \n",
            "\u001b[?25hBuilding wheels for collected packages: pyspark\n",
            "  Building wheel for pyspark (setup.py) ... \u001b[?25l\u001b[?25hdone\n",
            "  Created wheel for pyspark: filename=pyspark-3.1.1-py2.py3-none-any.whl size=212767604 sha256=ba3d0e62691234aa60585428a5073b868852f25efbe511a5a4ffcf33d45067cb\n",
            "  Stored in directory: /root/.cache/pip/wheels/0b/90/c0/01de724414ef122bd05f056541fb6a0ecf47c7ca655f8b3c0f\n",
            "Successfully built pyspark\n",
            "Installing collected packages: py4j, pyspark\n",
            "Successfully installed py4j-0.10.9 pyspark-3.1.1\n"
          ],
          "name": "stdout"
        }
      ]
    },
    {
      "cell_type": "code",
      "metadata": {
        "colab": {
          "base_uri": "https://localhost:8080/"
        },
        "id": "kLifZe3Fyj8q",
        "outputId": "a6c6f333-5021-45f2-be8b-2667430eb50b"
      },
      "source": [
        "from google.colab import drive\n",
        "drive.mount('/content/gdrive')"
      ],
      "execution_count": null,
      "outputs": [
        {
          "output_type": "stream",
          "text": [
            "Mounted at /content/gdrive\n"
          ],
          "name": "stdout"
        }
      ]
    },
    {
      "cell_type": "code",
      "metadata": {
        "id": "wFRMkN_WylqC"
      },
      "source": [
        "import os\n",
        "os.environ['KAGGLE_CONFIG_DIR'] = \"/content/gdrive/MyDrive/\""
      ],
      "execution_count": null,
      "outputs": []
    },
    {
      "cell_type": "code",
      "metadata": {
        "colab": {
          "base_uri": "https://localhost:8080/"
        },
        "id": "zy1Mr2D3yoX6",
        "outputId": "cd800a6b-631e-48e4-d8b1-82e0bd1e4df7"
      },
      "source": [
        "!kaggle datasets download -d shubhammehta21/movie-lens-small-latest-dataset"
      ],
      "execution_count": null,
      "outputs": [
        {
          "output_type": "stream",
          "text": [
            "Downloading movie-lens-small-latest-dataset.zip to /content\n",
            "\r  0% 0.00/971k [00:00<?, ?B/s]\n",
            "\r100% 971k/971k [00:00<00:00, 65.2MB/s]\n"
          ],
          "name": "stdout"
        }
      ]
    },
    {
      "cell_type": "code",
      "metadata": {
        "colab": {
          "base_uri": "https://localhost:8080/"
        },
        "id": "FY8Il5_Ky1cd",
        "outputId": "fe033c46-86b9-4a34-d786-a0894a98c703"
      },
      "source": [
        "!ls"
      ],
      "execution_count": null,
      "outputs": [
        {
          "output_type": "stream",
          "text": [
            "gdrive\tmovie-lens-small-latest-dataset.zip  sample_data\n"
          ],
          "name": "stdout"
        }
      ]
    },
    {
      "cell_type": "code",
      "metadata": {
        "colab": {
          "base_uri": "https://localhost:8080/"
        },
        "id": "wt3e0tQty3vP",
        "outputId": "45ca1fb0-bfdf-425c-97c0-80c54c4381f9"
      },
      "source": [
        "!unzip \\*.zip  && rm *.zip"
      ],
      "execution_count": null,
      "outputs": [
        {
          "output_type": "stream",
          "text": [
            "Archive:  movie-lens-small-latest-dataset.zip\n",
            "  inflating: README.txt              \n",
            "  inflating: links.csv               \n",
            "  inflating: movies.csv              \n",
            "  inflating: ratings.csv             \n",
            "  inflating: tags.csv                \n"
          ],
          "name": "stdout"
        }
      ]
    },
    {
      "cell_type": "code",
      "metadata": {
        "id": "ipxjFhOxy64A"
      },
      "source": [
        "import pyspark as ps\n",
        "from pyspark.sql import SQLContext\n",
        "from pyspark.ml.evaluation import RegressionEvaluator\n",
        "from pyspark.ml.tuning import CrossValidator, ParamGridBuilder\n",
        "from pyspark.ml import Pipeline\n",
        "from pyspark.sql import Row\n",
        "from pyspark.ml.recommendation import ALS\n",
        "from pyspark.sql.functions import udf, col, when\n",
        "import numpy as np\n"
      ],
      "execution_count": null,
      "outputs": []
    },
    {
      "cell_type": "code",
      "metadata": {
        "id": "FlR6zBAhy9Oh"
      },
      "source": [
        "spark = ps.sql.SparkSession.builder \\\n",
        "            .master(\"local\") \\\n",
        "            .appName(\"Movie recommendation \") \\\n",
        "            .getOrCreate() \n",
        "            \n",
        "sc = spark.sparkContext \n",
        "sqlContext = SQLContext(sc)"
      ],
      "execution_count": null,
      "outputs": []
    },
    {
      "cell_type": "code",
      "metadata": {
        "colab": {
          "base_uri": "https://localhost:8080/"
        },
        "id": "5HRqGMhtzBmF",
        "outputId": "321f497a-ed0c-4c54-ffcc-875a38a4c9a1"
      },
      "source": [
        "ratings_df = spark.read.csv('/content/ratings.csv',header=True, inferSchema=True)\n",
        "ratings_df.printSchema()"
      ],
      "execution_count": null,
      "outputs": [
        {
          "output_type": "stream",
          "text": [
            "root\n",
            " |-- userId: integer (nullable = true)\n",
            " |-- movieId: integer (nullable = true)\n",
            " |-- rating: double (nullable = true)\n",
            " |-- timestamp: integer (nullable = true)\n",
            "\n"
          ],
          "name": "stdout"
        }
      ]
    },
    {
      "cell_type": "code",
      "metadata": {
        "colab": {
          "base_uri": "https://localhost:8080/"
        },
        "id": "ydt9AbxuzGBi",
        "outputId": "8bb182c2-e42b-42cc-e66f-d98a9729ee6f"
      },
      "source": [
        "ratings_df.show(5)"
      ],
      "execution_count": null,
      "outputs": [
        {
          "output_type": "stream",
          "text": [
            "+------+-------+------+---------+\n",
            "|userId|movieId|rating|timestamp|\n",
            "+------+-------+------+---------+\n",
            "|     1|      1|   4.0|964982703|\n",
            "|     1|      3|   4.0|964981247|\n",
            "|     1|      6|   4.0|964982224|\n",
            "|     1|     47|   5.0|964983815|\n",
            "|     1|     50|   5.0|964982931|\n",
            "+------+-------+------+---------+\n",
            "only showing top 5 rows\n",
            "\n"
          ],
          "name": "stdout"
        }
      ]
    },
    {
      "cell_type": "code",
      "metadata": {
        "colab": {
          "base_uri": "https://localhost:8080/"
        },
        "id": "68KTqzKVzOkC",
        "outputId": "28792fda-0f9f-4248-8b6a-e8c8ee8916d3"
      },
      "source": [
        "movies_df = spark.read.csv('/content/movies.csv',header=True, inferSchema=True) \n",
        "movies_df.printSchema()"
      ],
      "execution_count": null,
      "outputs": [
        {
          "output_type": "stream",
          "text": [
            "root\n",
            " |-- movieId: integer (nullable = true)\n",
            " |-- title: string (nullable = true)\n",
            " |-- genres: string (nullable = true)\n",
            "\n"
          ],
          "name": "stdout"
        }
      ]
    },
    {
      "cell_type": "code",
      "metadata": {
        "colab": {
          "base_uri": "https://localhost:8080/"
        },
        "id": "WAMjN1m2zjRQ",
        "outputId": "5a690d53-4c6e-4f40-df34-10777ced0d92"
      },
      "source": [
        "movies_df.show(1)"
      ],
      "execution_count": null,
      "outputs": [
        {
          "output_type": "stream",
          "text": [
            "+-------+----------------+--------------------+\n",
            "|movieId|           title|              genres|\n",
            "+-------+----------------+--------------------+\n",
            "|      1|Toy Story (1995)|Adventure|Animati...|\n",
            "+-------+----------------+--------------------+\n",
            "only showing top 1 row\n",
            "\n"
          ],
          "name": "stdout"
        }
      ]
    },
    {
      "cell_type": "code",
      "metadata": {
        "id": "xgNaCwSBznbf"
      },
      "source": [
        "training_df, validation_df = ratings_df.randomSplit([.8, .2])"
      ],
      "execution_count": null,
      "outputs": []
    },
    {
      "cell_type": "code",
      "metadata": {
        "id": "6n1c0eTozpay"
      },
      "source": [
        "iterations = 10\n",
        "regularization_parameter = 0.1\n",
        "rank= 4\n",
        "errors = []\n",
        "err = 0"
      ],
      "execution_count": null,
      "outputs": []
    },
    {
      "cell_type": "code",
      "metadata": {
        "colab": {
          "base_uri": "https://localhost:8080/"
        },
        "id": "9HTbxp3DzrHM",
        "outputId": "7afabfaf-908f-45b1-8045-15ac7f9825b0"
      },
      "source": [
        "als = ALS(maxIter=iterations, regParam=regularization_parameter, rank=4, userCol=\"userId\", itemCol=\"movieId\", ratingCol=\"rating\")\n",
        "model = als.fit(training_df)\n",
        "predictions = model.transform(validation_df)\n",
        "new_predictions = predictions.filter(col('prediction') != np.nan)\n",
        "evaluator = RegressionEvaluator(metricName=\"rmse\", labelCol=\"rating\", predictionCol=\"prediction\")\n",
        "rmse = evaluator.evaluate(new_predictions)\n",
        "print(\"Root-mean-square error = \" + str(rmse))"
      ],
      "execution_count": null,
      "outputs": [
        {
          "output_type": "stream",
          "text": [
            "Root-mean-square error = 0.8779684254517098\n"
          ],
          "name": "stdout"
        }
      ]
    },
    {
      "cell_type": "code",
      "metadata": {
        "colab": {
          "base_uri": "https://localhost:8080/"
        },
        "id": "YGM4nsIYz_vf",
        "outputId": "c0a285db-de28-4d1c-88a2-2f8a2e77131e"
      },
      "source": [
        "als = ALS(maxIter=iterations, regParam=regularization_parameter, rank=5, userCol=\"userId\", itemCol=\"movieId\", ratingCol=\"rating\")\n",
        "model = als.fit(training_df)\n",
        "predictions = model.transform(validation_df)\n",
        "new_predictions = predictions.filter(col('prediction') != np.nan)\n",
        "evaluator = RegressionEvaluator(metricName=\"rmse\", labelCol=\"rating\", predictionCol=\"prediction\")\n",
        "rmse = evaluator.evaluate(new_predictions)\n",
        "print(\"Root-mean-square error = \" + str(rmse))"
      ],
      "execution_count": null,
      "outputs": [
        {
          "output_type": "stream",
          "text": [
            "Root-mean-square error = 0.8767829888981732\n"
          ],
          "name": "stdout"
        }
      ]
    },
    {
      "cell_type": "code",
      "metadata": {
        "colab": {
          "base_uri": "https://localhost:8080/"
        },
        "id": "EHkyRdfy0DsQ",
        "outputId": "c838bcf1-fcb5-4319-a8a2-2212ac356c1c"
      },
      "source": [
        "for rank in range(4,10):\n",
        "    als = ALS(maxIter=iterations, regParam=regularization_parameter, rank=rank, userCol=\"userId\", itemCol=\"movieId\", ratingCol=\"rating\")\n",
        "    model = als.fit(training_df)\n",
        "    predictions = model.transform(validation_df)\n",
        "    new_predictions = predictions.filter(col('prediction') != np.nan)\n",
        "    evaluator = RegressionEvaluator(metricName=\"rmse\", labelCol=\"rating\", predictionCol=\"prediction\")\n",
        "    rmse = evaluator.evaluate(new_predictions)\n",
        "    print(\"Rank :\", rank, \" Root-mean-square error = \" + str(rmse))"
      ],
      "execution_count": null,
      "outputs": [
        {
          "output_type": "stream",
          "text": [
            "Rank : 4  Root-mean-square error = 0.8779684254517098\n",
            "Rank : 5  Root-mean-square error = 0.8767829888981732\n",
            "Rank : 6  Root-mean-square error = 0.8793862975331244\n",
            "Rank : 7  Root-mean-square error = 0.8795904781654198\n",
            "Rank : 8  Root-mean-square error = 0.8751746024607806\n",
            "Rank : 9  Root-mean-square error = 0.8808478269215414\n"
          ],
          "name": "stdout"
        }
      ]
    },
    {
      "cell_type": "code",
      "metadata": {
        "id": "JMvmd6mC0M2t"
      },
      "source": [
        "als = ALS(maxIter=iterations, regParam=regularization_parameter, rank=rank, userCol=\"userId\", itemCol=\"movieId\", ratingCol=\"rating\")\n",
        "paramGrid = ParamGridBuilder() \\\n",
        "    .addGrid(als.regParam, [0.1, 0.01, 0.18]) \\\n",
        "    .addGrid(als.rank, range(4, 6)) \\\n",
        "    .build()\n",
        "evaluator = RegressionEvaluator(metricName=\"rmse\", labelCol=\"rating\", predictionCol=\"prediction\")\n",
        "crossval = CrossValidator(estimator=als,\n",
        "                          estimatorParamMaps=paramGrid,\n",
        "                          evaluator=evaluator,\n",
        "                          numFolds=5)\n",
        "cvModel = crossval.fit(training_df)"
      ],
      "execution_count": null,
      "outputs": []
    },
    {
      "cell_type": "code",
      "metadata": {
        "colab": {
          "base_uri": "https://localhost:8080/"
        },
        "id": "tjW-S7pj0S1p",
        "outputId": "ae3d7a7b-c923-4136-b941-75c41c2f5d34"
      },
      "source": [
        "cvModel_pred = cvModel.transform(validation_df)\n",
        "cvModel_pred = cvModel_pred.filter(col('prediction') != np.nan)\n",
        "rmse = evaluator.evaluate(cvModel_pred)\n",
        "print(\"the rmse for optimal grid parameters with cross validation is: {}\".format(rmse))"
      ],
      "execution_count": null,
      "outputs": [
        {
          "output_type": "stream",
          "text": [
            "the rmse for optimal grid parameters with cross validation is: 0.8779684254517098\n"
          ],
          "name": "stdout"
        }
      ]
    },
    {
      "cell_type": "code",
      "metadata": {
        "id": "QiZ3spjg0U1n"
      },
      "source": [
        "final_als = ALS(maxIter=10, regParam=0.1, rank=4, userCol=\"userId\", itemCol=\"movieId\", ratingCol=\"rating\")\n",
        "final_model = final_als.fit(training_df)"
      ],
      "execution_count": null,
      "outputs": []
    },
    {
      "cell_type": "code",
      "metadata": {
        "colab": {
          "base_uri": "https://localhost:8080/"
        },
        "id": "tj5X6KCt0as8",
        "outputId": "24f2fe9a-d260-429c-ebc1-33353fef0614"
      },
      "source": [
        "predictions = final_model.transform(validation_df)\n",
        "predictions.show(n = 10)"
      ],
      "execution_count": null,
      "outputs": [
        {
          "output_type": "stream",
          "text": [
            "+------+-------+------+----------+----------+\n",
            "|userId|movieId|rating| timestamp|prediction|\n",
            "+------+-------+------+----------+----------+\n",
            "|    91|    471|   1.0|1112713817| 2.9722624|\n",
            "|   500|    471|   1.0|1005528017| 3.2916183|\n",
            "|   520|    471|   5.0|1326609921| 3.6554563|\n",
            "|   541|    471|   3.0| 835643551| 3.8872924|\n",
            "|   599|    833|   1.5|1519330029| 1.3572986|\n",
            "|   609|    833|   3.0| 847221080| 1.9135638|\n",
            "|   608|    833|   0.5|1117506344|  1.959724|\n",
            "|   606|   1088|   3.0|1171926956| 3.3356426|\n",
            "|    64|   1088|   4.0|1161559902| 3.3947425|\n",
            "|   489|   1088|   4.5|1332775009| 2.9336617|\n",
            "+------+-------+------+----------+----------+\n",
            "only showing top 10 rows\n",
            "\n"
          ],
          "name": "stdout"
        }
      ]
    },
    {
      "cell_type": "code",
      "metadata": {
        "colab": {
          "base_uri": "https://localhost:8080/"
        },
        "id": "KmVtjr-l0er9",
        "outputId": "89431c2c-0cd9-439d-8a95-f510bbc133e3"
      },
      "source": [
        "predictions.join(movies_df, \"movieId\").select(\"userId\",\"title\",\"genres\",\"prediction\").show(5)"
      ],
      "execution_count": null,
      "outputs": [
        {
          "output_type": "stream",
          "text": [
            "+------+--------------------+------+----------+\n",
            "|userId|               title|genres|prediction|\n",
            "+------+--------------------+------+----------+\n",
            "|    91|Hudsucker Proxy, ...|Comedy| 2.9722624|\n",
            "|   500|Hudsucker Proxy, ...|Comedy| 3.2916183|\n",
            "|   520|Hudsucker Proxy, ...|Comedy| 3.6554563|\n",
            "|   541|Hudsucker Proxy, ...|Comedy| 3.8872924|\n",
            "|   599|High School High ...|Comedy| 1.3572986|\n",
            "+------+--------------------+------+----------+\n",
            "only showing top 5 rows\n",
            "\n"
          ],
          "name": "stdout"
        }
      ]
    },
    {
      "cell_type": "code",
      "metadata": {
        "colab": {
          "base_uri": "https://localhost:8080/"
        },
        "id": "1-EFGEBT4EkE",
        "outputId": "bfc58a28-5811-4055-d07e-b00facad66ec"
      },
      "source": [
        "links_df = spark.read.csv('/content/links.csv',header=True, inferSchema=True)\n",
        "links_df.printSchema()"
      ],
      "execution_count": null,
      "outputs": [
        {
          "output_type": "stream",
          "text": [
            "root\n",
            " |-- movieId: integer (nullable = true)\n",
            " |-- imdbId: integer (nullable = true)\n",
            " |-- tmdbId: integer (nullable = true)\n",
            "\n"
          ],
          "name": "stdout"
        }
      ]
    },
    {
      "cell_type": "code",
      "metadata": {
        "colab": {
          "base_uri": "https://localhost:8080/"
        },
        "id": "zIqwrIjz3fPD",
        "outputId": "175e06ef-643e-4c15-a941-ea0372d1b847"
      },
      "source": [
        "for_one_user = predictions.filter(col(\"userId\")==450).join(movies_df, \"movieId\").join(links_df,\"movieId\").select(\"userId\",\"title\",\"genres\",\"tmdbId\",\"prediction\")\n",
        "for_one_user.show(5)"
      ],
      "execution_count": null,
      "outputs": [
        {
          "output_type": "stream",
          "text": [
            "+------+--------------------+--------------------+------+----------+\n",
            "|userId|               title|              genres|tmdbId|prediction|\n",
            "+------+--------------------+--------------------+------+----------+\n",
            "|   450|Clockwork Orange,...|Crime|Drama|Sci-F...|   185| 3.9999244|\n",
            "|   450| Patriot, The (2000)|    Action|Drama|War|  2024| 3.7717814|\n",
            "|   450|Time Machine, The...|Action|Adventure|...|  2134| 4.2522187|\n",
            "|   450|Boogie Nights (1997)|               Drama|  4995| 4.2506247|\n",
            "|   450|Mission to Mars (...|              Sci-Fi|  2067| 2.7895403|\n",
            "+------+--------------------+--------------------+------+----------+\n",
            "only showing top 5 rows\n",
            "\n"
          ],
          "name": "stdout"
        }
      ]
    },
    {
      "cell_type": "code",
      "metadata": {
        "colab": {
          "base_uri": "https://localhost:8080/"
        },
        "id": "yicIkQk95XP_",
        "outputId": "76d55f67-8123-4e6b-9576-ef5be4b6d0cf"
      },
      "source": [
        "import webbrowser\n",
        "link=\"https://www.themoviedb.org/movie/\"\n",
        "for movie in for_one_user.take(3):\n",
        "  movieURL=link+str(movie.tmdbId)\n",
        "  print(movie.title)\n",
        "  print(movie.tmdbId)\n",
        "  webbrowser.open(movieURL)"
      ],
      "execution_count": null,
      "outputs": [
        {
          "output_type": "stream",
          "text": [
            "Clockwork Orange, A (1971)\n",
            "185\n",
            "Patriot, The (2000)\n",
            "2024\n",
            "Time Machine, The (1960)\n",
            "2134\n"
          ],
          "name": "stdout"
        }
      ]
    },
    {
      "cell_type": "code",
      "metadata": {
        "id": "k6rEaZ4278FA"
      },
      "source": [
        "# Generate top 5 movies recommendations for each user\n",
        "userRecomments = final_model.recommendForAllUsers(5)\n",
        "# Generate top 5 user recommendations for each movie\n",
        "movieRecomments = final_model.recommendForAllItems(5)"
      ],
      "execution_count": null,
      "outputs": []
    },
    {
      "cell_type": "code",
      "metadata": {
        "colab": {
          "base_uri": "https://localhost:8080/"
        },
        "id": "XZGW4VA08UWS",
        "outputId": "1e35ae5f-d230-4bc8-baa5-4c03f4157b2e"
      },
      "source": [
        "userRecomments.printSchema()"
      ],
      "execution_count": null,
      "outputs": [
        {
          "output_type": "stream",
          "text": [
            "root\n",
            " |-- userId: integer (nullable = false)\n",
            " |-- recommendations: array (nullable = true)\n",
            " |    |-- element: struct (containsNull = true)\n",
            " |    |    |-- movieId: integer (nullable = true)\n",
            " |    |    |-- rating: float (nullable = true)\n",
            "\n"
          ],
          "name": "stdout"
        }
      ]
    },
    {
      "cell_type": "code",
      "metadata": {
        "colab": {
          "base_uri": "https://localhost:8080/"
        },
        "id": "P0Y0tNx88oNm",
        "outputId": "433e0a79-4a19-4594-efec-cc1e70990c7b"
      },
      "source": [
        "userRecomments.select(\"userId\",\"recommendations.movieId\").show(10, False)"
      ],
      "execution_count": null,
      "outputs": [
        {
          "output_type": "stream",
          "text": [
            "+------+-----------------------------------+\n",
            "|userId|movieId                            |\n",
            "+------+-----------------------------------+\n",
            "|471   |[8477, 148881, 6461, 40491, 6818]  |\n",
            "|463   |[26171, 141718, 68945, 3379, 6732] |\n",
            "|496   |[32582, 68945, 3379, 2899, 3567]   |\n",
            "|148   |[7842, 141718, 51931, 84847, 59018]|\n",
            "|540   |[141718, 26171, 68945, 3379, 7842] |\n",
            "|392   |[3567, 141718, 89759, 32582, 5292] |\n",
            "|243   |[26171, 5466, 2899, 4821, 86377]   |\n",
            "|31    |[26171, 87234, 5466, 7842, 6732]   |\n",
            "|516   |[7842, 25947, 87234, 60943, 59018] |\n",
            "|580   |[26171, 141718, 2899, 4821, 3182]  |\n",
            "+------+-----------------------------------+\n",
            "only showing top 10 rows\n",
            "\n"
          ],
          "name": "stdout"
        }
      ]
    },
    {
      "cell_type": "code",
      "metadata": {
        "colab": {
          "base_uri": "https://localhost:8080/"
        },
        "id": "NOAwZRh48xlo",
        "outputId": "a3babc53-c870-4bf7-bb70-58070781c82b"
      },
      "source": [
        "movieRecomments.select(\"movieId\",\"recommendations.userId\").show(10, False)"
      ],
      "execution_count": null,
      "outputs": [
        {
          "output_type": "stream",
          "text": [
            "+-------+-------------------------+\n",
            "|movieId|userId                   |\n",
            "+-------+-------------------------+\n",
            "|1580   |[53, 578, 543, 243, 276] |\n",
            "|4900   |[53, 147, 537, 258, 55]  |\n",
            "|5300   |[154, 360, 595, 296, 53] |\n",
            "|6620   |[154, 461, 295, 258, 375]|\n",
            "|7340   |[543, 544, 53, 12, 578]  |\n",
            "|32460  |[360, 154, 393, 259, 98] |\n",
            "|54190  |[53, 543, 388, 544, 236] |\n",
            "|471    |[360, 154, 250, 40, 20]  |\n",
            "|1591   |[53, 236, 55, 549, 576]  |\n",
            "|140541 |[55, 207, 147, 549, 3]   |\n",
            "+-------+-------------------------+\n",
            "only showing top 10 rows\n",
            "\n"
          ],
          "name": "stdout"
        }
      ]
    },
    {
      "cell_type": "code",
      "metadata": {
        "colab": {
          "base_uri": "https://localhost:8080/"
        },
        "id": "G59fNSdf9Anr",
        "outputId": "6dcd678e-c0e8-4121-a299-39e93186eeeb"
      },
      "source": [
        "# Generate top 10 Book recommendations for a specified set of users\n",
        "users = ratings_df.select(\"userId\").distinct().limit(3);\n",
        "users.show()"
      ],
      "execution_count": null,
      "outputs": [
        {
          "output_type": "stream",
          "text": [
            "+------+\n",
            "|userId|\n",
            "+------+\n",
            "|   148|\n",
            "|   463|\n",
            "|   471|\n",
            "+------+\n",
            "\n"
          ],
          "name": "stdout"
        }
      ]
    },
    {
      "cell_type": "code",
      "metadata": {
        "id": "kyyi3wS-9GsA"
      },
      "source": [
        "userSubsetRecs = model.recommendForUserSubset(users, 10)"
      ],
      "execution_count": null,
      "outputs": []
    }
  ]
}