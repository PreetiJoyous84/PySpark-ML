{
  "nbformat": 4,
  "nbformat_minor": 0,
  "metadata": {
    "colab": {
      "name": "assignment recomm.ipynb",
      "provenance": [],
      "collapsed_sections": []
    },
    "kernelspec": {
      "name": "python3",
      "display_name": "Python 3"
    },
    "language_info": {
      "name": "python"
    }
  },
  "cells": [
    {
      "cell_type": "code",
      "metadata": {
        "colab": {
          "base_uri": "https://localhost:8080/"
        },
        "id": "ybAqP_JPfQ1q",
        "outputId": "edec5ee0-482c-44e2-c7fd-2a1063a7df8e"
      },
      "source": [
        "!pip install pyspark"
      ],
      "execution_count": null,
      "outputs": [
        {
          "output_type": "stream",
          "text": [
            "Collecting pyspark\n",
            "\u001b[?25l  Downloading https://files.pythonhosted.org/packages/45/b0/9d6860891ab14a39d4bddf80ba26ce51c2f9dc4805e5c6978ac0472c120a/pyspark-3.1.1.tar.gz (212.3MB)\n",
            "\u001b[K     |████████████████████████████████| 212.3MB 67kB/s \n",
            "\u001b[?25hCollecting py4j==0.10.9\n",
            "\u001b[?25l  Downloading https://files.pythonhosted.org/packages/9e/b6/6a4fb90cd235dc8e265a6a2067f2a2c99f0d91787f06aca4bcf7c23f3f80/py4j-0.10.9-py2.py3-none-any.whl (198kB)\n",
            "\u001b[K     |████████████████████████████████| 204kB 46.6MB/s \n",
            "\u001b[?25hBuilding wheels for collected packages: pyspark\n",
            "  Building wheel for pyspark (setup.py) ... \u001b[?25l\u001b[?25hdone\n",
            "  Created wheel for pyspark: filename=pyspark-3.1.1-py2.py3-none-any.whl size=212767604 sha256=5cc7f67d687e285f65c26c3f518b85d3171171f69da7d910c2aae32ae159b97c\n",
            "  Stored in directory: /root/.cache/pip/wheels/0b/90/c0/01de724414ef122bd05f056541fb6a0ecf47c7ca655f8b3c0f\n",
            "Successfully built pyspark\n",
            "Installing collected packages: py4j, pyspark\n",
            "Successfully installed py4j-0.10.9 pyspark-3.1.1\n"
          ],
          "name": "stdout"
        }
      ]
    },
    {
      "cell_type": "code",
      "metadata": {
        "id": "pZfw2HCphGpJ"
      },
      "source": [
        "from pyspark.sql import SparkSession\n",
        "from pyspark.ml.recommendation import ALS\n",
        "import pyspark as ps\n",
        "from pyspark.sql import SQLContext\n",
        "from pyspark.ml.evaluation import RegressionEvaluator##Error evaluator\n",
        "from pyspark.ml.tuning import CrossValidator, ParamGridBuilder## Hyper parameters\n",
        "from pyspark.ml import Pipeline\n",
        "from pyspark.sql import Row\n",
        "from pyspark.ml.recommendation import ALS\n",
        "from pyspark.sql.functions import udf, col, when\n",
        "import numpy as np"
      ],
      "execution_count": null,
      "outputs": []
    },
    {
      "cell_type": "code",
      "metadata": {
        "id": "vZieZzF4hJk0"
      },
      "source": [
        "appName = \"Recommender system in Spark\"\n",
        "spark = SparkSession \\\n",
        "    .builder \\\n",
        "    .appName(appName) \\\n",
        "    .config(\"spark.some.config.option\", \"some-value\") \\\n",
        "    .getOrCreate()"
      ],
      "execution_count": null,
      "outputs": []
    },
    {
      "cell_type": "markdown",
      "metadata": {
        "id": "c1vAPfVNhnrz"
      },
      "source": [
        "Read file into dataFrame"
      ]
    },
    {
      "cell_type": "code",
      "metadata": {
        "id": "YncbU_YthivX"
      },
      "source": [
        "df=spark.read.json(\"/content/Automotive_5.json\") "
      ],
      "execution_count": null,
      "outputs": []
    },
    {
      "cell_type": "code",
      "metadata": {
        "colab": {
          "base_uri": "https://localhost:8080/"
        },
        "id": "xV1Yn9VMh5sB",
        "outputId": "c7893d08-8835-45ea-cd6e-4d8d6d01e07b"
      },
      "source": [
        "df.show(50)  # to display the data in the dataframe."
      ],
      "execution_count": null,
      "outputs": [
        {
          "output_type": "stream",
          "text": [
            "+----------+--------+-------+--------------------+-----------+--------------+--------------------+--------------------+--------------+\n",
            "|      asin| helpful|overall|          reviewText| reviewTime|    reviewerID|        reviewerName|             summary|unixReviewTime|\n",
            "+----------+--------+-------+--------------------+-----------+--------------+--------------------+--------------------+--------------+\n",
            "|B00002243X|  [4, 4]|    5.0|I needed a set of...|08 17, 2011|A3F73SC1LY51OO|     Alan Montgomery|Work Well - Shoul...|    1313539200|\n",
            "|B00002243X|  [1, 1]|    4.0|These long cables...| 09 4, 2011|A20S66SKYXULG2|            alphonse|    Okay long cables|    1315094400|\n",
            "|B00002243X|  [0, 0]|    5.0|Can't comment muc...|07 25, 2013|A2I8LFSN2IS5EO|               Chris|Looks and feels h...|    1374710400|\n",
            "|B00002243X|[19, 19]|    5.0|I absolutley love...|12 21, 2010|A3GT2EWQSO45ZG|              DeusEx|Excellent choice ...|    1292889600|\n",
            "|B00002243X|  [0, 0]|    5.0|I purchased the 1...| 07 4, 2012|A3ESWJPAVRPWB4|        E. Hernandez|Excellent, High Q...|    1341360000|\n",
            "|B00002243X|  [1, 1]|    5.0|These Jumper cabl...|11 14, 2009| A1ORODEBRN64C|James F. Magowan ...|Compact and Strong !|    1258156800|\n",
            "|B00002243X|  [1, 1]|    5.0|bought these for ...|01 10, 2012|A2R49ZN3G6FTCQ|     John M. Harrell|         nice cables|    1326153600|\n",
            "|B00002243X|  [0, 0]|    5.0|these are good en...|06 13, 2013|A1Q65KYDKXIX8E|          Leeland H.|for cars and pickups|    1371081600|\n",
            "|B00002243X|  [0, 0]|    4.0|The Coleman Cable...|07 18, 2013|A3BI8BKIHESDNQ|    L. J. Cunningham|Coleman Cable 086...|    1374105600|\n",
            "|B00002243X|  [0, 0]|    5.0|I have an old car...|01 22, 2014|A1R089P5AS26UE|                Mike|               Beefy|    1390348800|\n",
            "|B00002243Z|  [0, 0]|    4.0|I seem to use jum...|10 14, 2013|A2TQST4IPVA0EC|                ACAR| fine consumer grade|    1381708800|\n",
            "|B00002243Z|[19, 21]|    5.0|All other jumper ...|10 22, 2010|A3MQAQT8C6D1I7|     AverageReviewer|Jumper Cables - T...|    1287705600|\n",
            "|B00002243Z|  [0, 0]|    5.0|I'm one of those ...|12 27, 2013|A1C6RZG7XQZBUZ|C. Beard \"I have ...|       Great quality|    1388102400|\n",
            "|B00002243Z|[20, 21]|    4.0|So these aren't t...|12 22, 2010|A3GT2EWQSO45ZG|              DeusEx|Not sure if they'...|    1292976000|\n",
            "|B00002243Z|  [1, 1]|    4.0|It is hard to fin...| 09 8, 2013|A3I23XW4L5ITOG|             Hemmi06|Plated copper wir...|    1378598400|\n",
            "|B00002243Z|  [1, 3]|    4.0|These are an insu...|01 17, 2013|A30ASPRK2VP8QC|               Robin|Only 4 stars beca...|    1358380800|\n",
            "|B00008BKX5|  [0, 0]|    3.0|This product serv...|11 15, 2013|A1KKOA3FP2DMBW|      Brian LaFrance|Does what I expec...|    1384473600|\n",
            "|B00008BKX5|  [3, 4]|    4.0|Hitch extender is...| 09 6, 2010|A3L1VJMHFWONCB|  CDP \"Double00Buck\"|Extend-A-Truck 94...|    1283731200|\n",
            "|B00008BKX5|[51, 51]|    5.0|                    |08 11, 2011| A1HPC4BDRLR60|          Delta Echo|No Brainer, Easy ...|    1313020800|\n",
            "|B00008BKX5|  [0, 0]|    5.0|Package arrived a...| 07 9, 2012|A3IHX99Z9OK2Y9|           Gulfcoast|        Easy install|    1341792000|\n",
            "|B00008BKX5|  [0, 0]|    5.0|This was exactly ...|09 25, 2012| AT5F1MKA8C2IZ|           R. Gillis|            Love It!|    1348531200|\n",
            "|B00008BKX5|  [0, 0]|    4.0|I bought these to...|07 16, 2012| A4YV49T8Y0X94|     RobbyB \"RobbyB\"|          Great idea|    1342396800|\n",
            "|B00008BKX5|  [1, 1]|    5.0|I have owned truc...|01 24, 2012|A204K1OFE8OB9Y|              Winter|Good design and s...|    1327363200|\n",
            "|B00008RW9U|  [1, 2]|    5.0|This is a must fo...| 06 5, 2011|A36HBGDEFPWD0U|               Brett|Perfect for my ou...|    1307232000|\n",
            "|B00008RW9U|  [3, 3]|    3.0|this product does...| 05 7, 2009|A2FJKITDY5UUHJ|    Charles M. Cline|             average|    1241654400|\n",
            "|B00008RW9U| [3, 10]|    2.0|I would not buy t...|07 21, 2009|A3LYC4BXRDE5RZ|         Chi Car Guy|Does what it is s...|    1248134400|\n",
            "|B00008RW9U|  [0, 0]|    5.0|I own the Origina...| 01 2, 2009| AEL6CQNQXONBX|      Cute Chihuahua|GREAT FOR THOSE W...|    1230854400|\n",
            "|B00008RW9U|  [0, 0]|    5.0|Like most car det...|07 23, 2009|A3APEIJOQXE142|Daniel Attila \"Da...|Gentle yet effective|    1248307200|\n",
            "|B00008RW9U|  [0, 0]|    5.0|Takes the dust of...|05 16, 2014|A24EQC4LXYPT4E|                Dave|         What to say|    1400198400|\n",
            "|B00008RW9U|  [0, 0]|    5.0|Really the best c...| 03 6, 2013|A2H5KD2A9MUZEX|             Gaazmon| The best car duster|    1362528000|\n",
            "|B00008RW9U|  [0, 0]|    5.0|I've been using o...|05 24, 2010|A1LOENXGC0WRI2|               Gauda|         A must have|    1274659200|\n",
            "|B00008RW9U|  [0, 0]|    5.0|This thing is gre...| 05 5, 2014|A32TGXG3ZWJ4DY|             Golf247|            The Best|    1399248000|\n",
            "|B00008RW9U|  [0, 0]|    5.0|The California Ca...|11 27, 2009| AHC2CUX3AWPHC|     Larry K. Lednik|quick and easy du...|    1259280000|\n",
            "|B00008RW9U|  [0, 0]|    5.0|As we all know, d...|05 27, 2014|A2RO3DC31WU3LY|             MCBCL10|   california duster|    1401148800|\n",
            "|B00008RW9U|  [8, 9]|    5.0|Have used a Calif...|11 18, 2009|A1CIBI697YK58A|Michael &#34;Spik...|A Detailers Dream...|    1258502400|\n",
            "|B00008RW9U|  [0, 0]|    3.0|Maybe I don't und...|06 30, 2014|A1QF996642YT9L|          Neil Allan|cheaply made, pic...|    1404086400|\n",
            "|B00008RW9U|  [4, 5]|    5.0|This product is a...| 05 9, 2012|A3NEAETOSXDBOM|   Stephen M. Charme|   Works as promised|    1336521600|\n",
            "|B00008RW9U|  [0, 0]|    5.0|The first worked ...| 03 6, 2014|A38T1X0WFI8K9L|               steve|          Second One|    1394064000|\n",
            "|B00008RW9U|  [0, 0]|    5.0|Amazingly wipes o...| 01 4, 2008|A33ASQ3O2MIPNP|     Tenchi \"Tenchi\"|Must have for kee...|    1199404800|\n",
            "|B00008RW9U|[41, 45]|    5.0|You can trust tha...| 10 9, 2006|A1F9Z42CFF9IAY|              T. Tom|Great! I wish I k...|    1160352000|\n",
            "|B00008RW9U|  [0, 0]|    5.0|I gave a five sta...|03 21, 2014|A20ZLDHGXMVT8H|             Vincent|The Original Car ...|    1395360000|\n",
            "|B00008RW9U|  [0, 0]|    4.0|People were compl...|05 20, 2014|A3MH75XEELHGY0|             Wasisnt|  Still does the job|    1400544000|\n",
            "|B00008RW9V|  [0, 0]|    5.0|I purchased this ...|06 30, 2014| AVQDEM0DQJC0B|Amazon Customer \"...|        Perfect Size|    1404086400|\n",
            "|B00008RW9V|  [1, 1]|    5.0|The mk4 Beetles h...|07 26, 2013| AP37T7UPLQGWU|        Casey Friday|VW Beetle Dashboa...|    1374796800|\n",
            "|B00008RW9V|  [0, 0]|    5.0|I Love it  . Take...|06 18, 2014|A22QKNGN59XYZG|           Croppled1|Just perfect size...|    1403049600|\n",
            "|B00008RW9V|  [0, 0]|    5.0|One of the best t...|04 12, 2013|A30XYS6AQ17DNK|        Devildog4045|         works great|    1365724800|\n",
            "|B00008RW9V|[26, 28]|    5.0|The dash of my bl...|03 11, 2007|A1IU7S4HCK1XK0|      Joanna Daneman|Gets the dust off...|    1173571200|\n",
            "|B00008RW9V|  [0, 0]|    3.0|Bought this for m...| 02 3, 2013|A2YDD9A0U77LYS|        mile d murzi|Leaves red lint. ...|    1359849600|\n",
            "|B00008RW9V|  [0, 0]|    5.0|I've used a Calif...| 05 7, 2014|A2XXRN2ANQDBKO|             Pratzie|Nice product, not...|    1399420800|\n",
            "|B00009RAX7|  [2, 2]|    5.0|I had a cracked a...|03 29, 2008|A3155NWLKXEY1I|      AKO California|  Pretty easy to use|    1206748800|\n",
            "+----------+--------+-------+--------------------+-----------+--------------+--------------------+--------------------+--------------+\n",
            "only showing top 50 rows\n",
            "\n"
          ],
          "name": "stdout"
        }
      ]
    },
    {
      "cell_type": "code",
      "metadata": {
        "colab": {
          "base_uri": "https://localhost:8080/"
        },
        "id": "Oc54snHLp4QT",
        "outputId": "5356cd9c-bc40-4697-b594-3df32ccda533"
      },
      "source": [
        "df.filter(col(\"reviewerID\")=='A3EN2AV22EWE43').show() # filter is used to filter the rows based on a given condition. "
      ],
      "execution_count": null,
      "outputs": [
        {
          "output_type": "stream",
          "text": [
            "+----------+-------+-------+--------------------+-----------+--------------+------------+--------------------+--------------+\n",
            "|      asin|helpful|overall|          reviewText| reviewTime|    reviewerID|reviewerName|             summary|unixReviewTime|\n",
            "+----------+-------+-------+--------------------+-----------+--------------+------------+--------------------+--------------+\n",
            "|B001EAWNVY| [0, 0]|    5.0|This product is w...|07 23, 2010|A3EN2AV22EWE43|     Tony W.|Amazing!!! Can no...|    1279843200|\n",
            "|B003CG9PIC| [0, 1]|    4.0|I did lots of loo...|01 29, 2014|A3EN2AV22EWE43|     Tony W.|Heavy Duty Snatch...|    1390953600|\n",
            "|B004BWU8H8| [0, 0]|    4.0|Install was super...|01 29, 2014|A3EN2AV22EWE43|     Tony W.|Excellent Locking...|    1390953600|\n",
            "|B004ZF1MWG| [0, 0]|    4.0|Got these for my ...| 06 3, 2014|A3EN2AV22EWE43|     Tony W.|Great headlight u...|    1401753600|\n",
            "|B00554PNL2| [0, 0]|    3.0|I bought this at ...|01 29, 2014|A3EN2AV22EWE43|     Tony W.| Good wiring harness|    1390953600|\n",
            "+----------+-------+-------+--------------------+-----------+--------------+------------+--------------------+--------------+\n",
            "\n"
          ],
          "name": "stdout"
        }
      ]
    },
    {
      "cell_type": "code",
      "metadata": {
        "colab": {
          "base_uri": "https://localhost:8080/"
        },
        "id": "LKe0qkeCpFBz",
        "outputId": "820c3b7e-8320-4254-875a-186f1eedf8a4"
      },
      "source": [
        "df.filter(col(\"reviewerID\")=='A3155NWLKXEY1I').show()"
      ],
      "execution_count": null,
      "outputs": [
        {
          "output_type": "stream",
          "text": [
            "+----------+--------+-------+--------------------+-----------+--------------+--------------+--------------------+--------------+\n",
            "|      asin| helpful|overall|          reviewText| reviewTime|    reviewerID|  reviewerName|             summary|unixReviewTime|\n",
            "+----------+--------+-------+--------------------+-----------+--------------+--------------+--------------------+--------------+\n",
            "|B00009RAX7|  [2, 2]|    5.0|I had a cracked a...|03 29, 2008|A3155NWLKXEY1I|AKO California|  Pretty easy to use|    1206748800|\n",
            "|B0007QGT34|[12, 13]|    5.0|I didn't have any...|03 16, 2012|A3155NWLKXEY1I|AKO California|Car running very ...|    1331856000|\n",
            "|B000CB7DG6|  [1, 1]|    5.0|This fits my 1998...| 04 4, 2014|A3155NWLKXEY1I|AKO California|Look up the part ...|    1396569600|\n",
            "|B000UK3RT6|  [0, 1]|    4.0|I haven't ridden ...| 04 2, 2012|A3155NWLKXEY1I|AKO California|Will take time to...|    1333324800|\n",
            "|B001DKTG0G|  [0, 0]|    5.0|I replaced the ma...|03 17, 2012|A3155NWLKXEY1I|AKO California|Car running smoot...|    1331942400|\n",
            "|B005G7SBY4|  [0, 0]|    5.0|Some devices seem...| 04 4, 2014|A3155NWLKXEY1I|AKO California|Makes quick work ...|    1396569600|\n",
            "+----------+--------+-------+--------------------+-----------+--------------+--------------+--------------------+--------------+\n",
            "\n"
          ],
          "name": "stdout"
        }
      ]
    },
    {
      "cell_type": "code",
      "metadata": {
        "colab": {
          "base_uri": "https://localhost:8080/"
        },
        "id": "gIsAM_ZLj4qo",
        "outputId": "fec08636-7859-49ee-b14c-f64040c5c5f6"
      },
      "source": [
        "# drop not needed columns\n",
        "df1 = df.drop('helpful','reviewText','reviewTime','reviewerName','unixReviewTime','summary')\n",
        "\n",
        "# rename columns, and placed all the values in a new dataframe.\n",
        "df2 = df.selectExpr(\"asin\",\"overall as rating\", \"reviewerID as user\")\n",
        "# show first 6 rows\n",
        "df2.show(n=6)     \n",
        "# display data types and check if they are correct, e.g. rating should be double\n",
        "df2.printSchema()"
      ],
      "execution_count": null,
      "outputs": [
        {
          "output_type": "stream",
          "text": [
            "+----------+------+--------------+\n",
            "|      asin|rating|          user|\n",
            "+----------+------+--------------+\n",
            "|B00002243X|   5.0|A3F73SC1LY51OO|\n",
            "|B00002243X|   4.0|A20S66SKYXULG2|\n",
            "|B00002243X|   5.0|A2I8LFSN2IS5EO|\n",
            "|B00002243X|   5.0|A3GT2EWQSO45ZG|\n",
            "|B00002243X|   5.0|A3ESWJPAVRPWB4|\n",
            "|B00002243X|   5.0| A1ORODEBRN64C|\n",
            "+----------+------+--------------+\n",
            "only showing top 6 rows\n",
            "\n",
            "root\n",
            " |-- asin: string (nullable = true)\n",
            " |-- rating: double (nullable = true)\n",
            " |-- user: string (nullable = true)\n",
            "\n"
          ],
          "name": "stdout"
        }
      ]
    },
    {
      "cell_type": "code",
      "metadata": {
        "colab": {
          "base_uri": "https://localhost:8080/"
        },
        "id": "Xb-xoPyDpjjS",
        "outputId": "f57ee274-d4b0-4daa-86f4-b4dc3956c48e"
      },
      "source": [
        "df2.describe().show() # describe shows the statistical results."
      ],
      "execution_count": null,
      "outputs": [
        {
          "output_type": "stream",
          "text": [
            "+-------+----------+------------------+--------------------+\n",
            "|summary|      asin|            rating|                user|\n",
            "+-------+----------+------------------+--------------------+\n",
            "|  count|     20473|             20473|               20473|\n",
            "|   mean|      null| 4.471840961266058|                null|\n",
            "| stddev|      null|0.9403365986838125|                null|\n",
            "|    min|B00002243X|               1.0|A00473363TJ8YSZ3Y...|\n",
            "|    max|B00KIAQ8VW|               5.0|       AZYBZEVISD0YX|\n",
            "+-------+----------+------------------+--------------------+\n",
            "\n"
          ],
          "name": "stdout"
        }
      ]
    },
    {
      "cell_type": "code",
      "metadata": {
        "id": "QPDAUYwApsEM"
      },
      "source": [
        "# transform asin and user alphanumeric string to index using spark StringIndexer function\n",
        "from pyspark.ml.feature import StringIndexer \n",
        "asinIndexer = StringIndexer(inputCol=\"asin\", outputCol=\"itemiD\",handleInvalid='error') \n",
        "userIndexer = StringIndexer(inputCol='user',outputCol='userid',handleInvalid='error') \n",
        "asinIndexed = asinIndexer.fit(df2).transform(df2)  \n",
        "df_indexed  = userIndexer.fit(asinIndexed).transform(asinIndexed)  "
      ],
      "execution_count": null,
      "outputs": []
    },
    {
      "cell_type": "code",
      "metadata": {
        "colab": {
          "base_uri": "https://localhost:8080/"
        },
        "id": "-Ovh8_kqVmS2",
        "outputId": "294f50c9-c313-4e36-b2c2-407240915760"
      },
      "source": [
        "df_indexed.show()\n"
      ],
      "execution_count": null,
      "outputs": [
        {
          "output_type": "stream",
          "text": [
            "+----------+------+--------------+------+------+\n",
            "|      asin|rating|          user|itemiD|userid|\n",
            "+----------+------+--------------+------+------+\n",
            "|B00002243X|   5.0|A3F73SC1LY51OO| 547.0|2499.0|\n",
            "|B00002243X|   4.0|A20S66SKYXULG2| 547.0| 563.0|\n",
            "|B00002243X|   5.0|A2I8LFSN2IS5EO| 547.0|  33.0|\n",
            "|B00002243X|   5.0|A3GT2EWQSO45ZG| 547.0|  37.0|\n",
            "|B00002243X|   5.0|A3ESWJPAVRPWB4| 547.0| 649.0|\n",
            "|B00002243X|   5.0| A1ORODEBRN64C| 547.0| 219.0|\n",
            "|B00002243X|   5.0|A2R49ZN3G6FTCQ| 547.0|1391.0|\n",
            "|B00002243X|   5.0|A1Q65KYDKXIX8E| 547.0| 125.0|\n",
            "|B00002243X|   4.0|A3BI8BKIHESDNQ| 547.0|2469.0|\n",
            "|B00002243X|   5.0|A1R089P5AS26UE| 547.0|1972.0|\n",
            "|B00002243Z|   4.0|A2TQST4IPVA0EC|1113.0|1403.0|\n",
            "|B00002243Z|   5.0|A3MQAQT8C6D1I7|1113.0|1545.0|\n",
            "|B00002243Z|   5.0|A1C6RZG7XQZBUZ|1113.0|  42.0|\n",
            "|B00002243Z|   4.0|A3GT2EWQSO45ZG|1113.0|  37.0|\n",
            "|B00002243Z|   4.0|A3I23XW4L5ITOG|1113.0| 191.0|\n",
            "|B00002243Z|   4.0|A30ASPRK2VP8QC|1113.0| 318.0|\n",
            "|B00008BKX5|   3.0|A1KKOA3FP2DMBW| 915.0|1912.0|\n",
            "|B00008BKX5|   4.0|A3L1VJMHFWONCB| 915.0| 332.0|\n",
            "|B00008BKX5|   5.0| A1HPC4BDRLR60| 915.0|1206.0|\n",
            "|B00008BKX5|   5.0|A3IHX99Z9OK2Y9| 915.0|1527.0|\n",
            "+----------+------+--------------+------+------+\n",
            "only showing top 20 rows\n",
            "\n"
          ],
          "name": "stdout"
        }
      ]
    },
    {
      "cell_type": "code",
      "metadata": {
        "id": "bBQkMxTBWAt9"
      },
      "source": [
        "training_df, validation_df = df_indexed.randomSplit([.8, .2])"
      ],
      "execution_count": null,
      "outputs": []
    },
    {
      "cell_type": "code",
      "metadata": {
        "colab": {
          "base_uri": "https://localhost:8080/"
        },
        "id": "pZfbm0NNccMi",
        "outputId": "91529d9a-6db6-44c5-a9ed-caf8145eb2d3"
      },
      "source": [
        "print(\"The total number of reviewers of the training data : \",training_df.select(\"user\").count())"
      ],
      "execution_count": null,
      "outputs": [
        {
          "output_type": "stream",
          "text": [
            "The total number of reviewers of the training data :  16315\n"
          ],
          "name": "stdout"
        }
      ]
    },
    {
      "cell_type": "code",
      "metadata": {
        "colab": {
          "base_uri": "https://localhost:8080/"
        },
        "id": "Q8O0r_bacyjJ",
        "outputId": "604d8c95-1cd5-47ea-fbe7-c2591a8b05b5"
      },
      "source": [
        "print(\"The total number of products of the training data : \",training_df.select(\"asin\").count())"
      ],
      "execution_count": null,
      "outputs": [
        {
          "output_type": "stream",
          "text": [
            "The total number of products of the training data :  16315\n"
          ],
          "name": "stdout"
        }
      ]
    },
    {
      "cell_type": "code",
      "metadata": {
        "id": "pQSPo8VBXU7r"
      },
      "source": [
        "iterations = 10  # hyper parameters\n",
        "regularization_parameter = 0.1\n",
        "rank= 4\n",
        "errors = []\n",
        "err = 0"
      ],
      "execution_count": null,
      "outputs": []
    },
    {
      "cell_type": "code",
      "metadata": {
        "colab": {
          "base_uri": "https://localhost:8080/"
        },
        "id": "22Lac0KrYuCN",
        "outputId": "53d6d547-2b8a-4c38-9ebf-fadcfb1fe5bc"
      },
      "source": [
        "als = ALS(maxIter=iterations, regParam=regularization_parameter, rank=4, userCol=\"userid\", itemCol=\"itemiD\", ratingCol=\"rating\")\n",
        "model = als.fit(training_df)\n",
        "predictions = model.transform(validation_df)\n",
        "new_predictions = predictions.filter(col('prediction') != np.nan)\n",
        "evaluator = RegressionEvaluator(metricName=\"rmse\", labelCol=\"rating\", predictionCol=\"prediction\")\n",
        "rmse = evaluator.evaluate(new_predictions)\n",
        "print(\"Root-mean-square error = \" + str(rmse))"
      ],
      "execution_count": null,
      "outputs": [
        {
          "output_type": "stream",
          "text": [
            "Root-mean-square error = 5.550375269370397\n"
          ],
          "name": "stdout"
        }
      ]
    },
    {
      "cell_type": "code",
      "metadata": {
        "colab": {
          "base_uri": "https://localhost:8080/"
        },
        "id": "Rl-nFGvhZxqL",
        "outputId": "c142ba07-c62b-4ec4-cd3b-69df68e92df8"
      },
      "source": [
        "predictions.show()\n"
      ],
      "execution_count": null,
      "outputs": [
        {
          "output_type": "stream",
          "text": [
            "+----------+------+--------------+------+------+-----------+\n",
            "|      asin|rating|          user|itemiD|userid| prediction|\n",
            "+----------+------+--------------+------+------+-----------+\n",
            "|B003CG9PIC|   5.0|A2IKO9YTH7QLWH| 148.0|2209.0|   2.915052|\n",
            "|B003CG9PIC|   5.0|A2QR9IXLMIDL5U| 148.0|  40.0|  7.1163816|\n",
            "|B003CG9PIC|   3.0|A17WU4OZ17UG0J| 148.0|1813.0| -1.3192189|\n",
            "|B002M589TA|   5.0|A2CYY89WPXX68H| 463.0|2156.0|  2.8013816|\n",
            "|B002M589TA|   5.0|A2VQBRCE1AMTN3| 463.0| 910.0|  2.9409618|\n",
            "|B007OSL3DY|   5.0| AD0VA39FRVNKN| 471.0| 348.0|  -4.406698|\n",
            "|B007OSL3DY|   4.0|A2CDGZWYTUTM2E| 471.0|2151.0| 0.05765581|\n",
            "|B00144I5KS|   2.0|A3EGHUQPUV6E5U| 833.0|2493.0|    4.30387|\n",
            "|B0067ECRP4|   5.0|A185O1MX1RP964|1088.0|  52.0|  7.0616765|\n",
            "|B0067ECRP4|   5.0|A3I42CDG116KKQ|1088.0|  41.0|  2.0123353|\n",
            "|B0067ECRP4|   5.0|A27FBC56WXTH0J|1088.0|2119.0| 0.28720045|\n",
            "|B001AWLTX4|   5.0|A3UXW18DP4WSD6|1238.0| 196.0|  -4.378708|\n",
            "|B001AWLTX4|   5.0|A3HF8SHOKQ25YS|1238.0|2512.0| -2.6383488|\n",
            "|B001AWLTX4|   4.0|A3GU1MRGAM15Z2|1238.0| 466.0|  0.9274976|\n",
            "|B004YLKK5Q|   4.0|A1B14L92LJ42B0|1342.0| 523.0|-0.16116667|\n",
            "|B000VKTULY|   5.0|A1V9GVW1YCI89K|1591.0|2007.0|  -5.884214|\n",
            "|B000VKTULY|   5.0| AFMITL6YIFJNC|1591.0|1646.0| -4.6257176|\n",
            "|B00CE75ZQQ|   4.0|A1ODOGXEYECQQ8|1829.0| 218.0|  1.6699756|\n",
            "|B00CE75ZQQ|   4.0|A2D1LPEUCTNT8X|1829.0|  32.0| -4.6943913|\n",
            "|B00C5RB03W|   5.0|A1XDRM8B3E6LCT| 243.0|2025.0| -2.8036838|\n",
            "+----------+------+--------------+------+------+-----------+\n",
            "only showing top 20 rows\n",
            "\n"
          ],
          "name": "stdout"
        }
      ]
    },
    {
      "cell_type": "code",
      "metadata": {
        "id": "1JBdO3kncAkM",
        "colab": {
          "base_uri": "https://localhost:8080/"
        },
        "outputId": "40980462-dea5-453a-bd33-2dc7cfc73513"
      },
      "source": [
        "final_als = ALS(maxIter=10, regParam=0.1, rank=13, userCol=\"userid\", itemCol=\"itemiD\", ratingCol=\"rating\")\n",
        "final_model = final_als.fit(training_df)\n",
        "predictions = final_model.transform(validation_df)\n",
        "new_predictions = predictions.filter(col('prediction') != np.nan)\n",
        "evaluator = RegressionEvaluator(metricName=\"rmse\", labelCol=\"rating\", predictionCol=\"prediction\")\n",
        "rmse = evaluator.evaluate(new_predictions)\n",
        "print(\"Root-mean-square error of the ALS model = \" + str(rmse))"
      ],
      "execution_count": null,
      "outputs": [
        {
          "output_type": "stream",
          "text": [
            "Root-mean-square error of the ALS model = 1.3273162922448143\n"
          ],
          "name": "stdout"
        }
      ]
    },
    {
      "cell_type": "code",
      "metadata": {
        "colab": {
          "base_uri": "https://localhost:8080/"
        },
        "id": "LYY94luycDV1",
        "outputId": "f5d9c197-ac20-49f7-db54-31fadb4046d0"
      },
      "source": [
        "predictions = final_model.transform(validation_df)\n",
        "predictions.show(n = 10)                      "
      ],
      "execution_count": null,
      "outputs": [
        {
          "output_type": "stream",
          "text": [
            "+----------+------+--------------+------+------+----------+\n",
            "|      asin|rating|          user|itemiD|userid|prediction|\n",
            "+----------+------+--------------+------+------+----------+\n",
            "|B003CG9PIC|   5.0|A2IKO9YTH7QLWH| 148.0|2209.0|  4.547538|\n",
            "|B003CG9PIC|   5.0|A2QR9IXLMIDL5U| 148.0|  40.0| 3.1852183|\n",
            "|B003CG9PIC|   3.0|A17WU4OZ17UG0J| 148.0|1813.0| 2.9878469|\n",
            "|B002M589TA|   5.0|A2CYY89WPXX68H| 463.0|2156.0| 4.2622137|\n",
            "|B002M589TA|   5.0|A2VQBRCE1AMTN3| 463.0| 910.0| 2.9270933|\n",
            "|B007OSL3DY|   5.0| AD0VA39FRVNKN| 471.0| 348.0|  3.334535|\n",
            "|B007OSL3DY|   4.0|A2CDGZWYTUTM2E| 471.0|2151.0| 3.9260328|\n",
            "|B00144I5KS|   2.0|A3EGHUQPUV6E5U| 833.0|2493.0| 4.6990914|\n",
            "|B0067ECRP4|   5.0|A185O1MX1RP964|1088.0|  52.0| 3.8168762|\n",
            "|B0067ECRP4|   5.0|A3I42CDG116KKQ|1088.0|  41.0|  4.634039|\n",
            "+----------+------+--------------+------+------+----------+\n",
            "only showing top 10 rows\n",
            "\n"
          ],
          "name": "stdout"
        }
      ]
    },
    {
      "cell_type": "code",
      "metadata": {
        "id": "ebst2G2FtymG"
      },
      "source": [
        "users1 = df_indexed .select(final_als.getUserCol()).distinct().limit(3)\n",
        "userSubsetRecs = final_model.recommendForUserSubset(users1, 10)\n"
      ],
      "execution_count": null,
      "outputs": []
    },
    {
      "cell_type": "code",
      "metadata": {
        "colab": {
          "base_uri": "https://localhost:8080/"
        },
        "id": "UzyW5UiFxm2H",
        "outputId": "7131ef31-d150-4002-9ba7-408de7b701a4"
      },
      "source": [
        "userSubsetRecs.show(10,False)"
      ],
      "execution_count": null,
      "outputs": [
        {
          "output_type": "stream",
          "text": [
            "+------+--------------------------------------------------------------------------------------------------------------------------------------------------------------------------------------+\n",
            "|userid|recommendations                                                                                                                                                                       |\n",
            "+------+--------------------------------------------------------------------------------------------------------------------------------------------------------------------------------------+\n",
            "|1051  |[{1670, 5.332966}, {1233, 5.1821856}, {1169, 5.1526575}, {1497, 5.1271563}, {610, 5.1134367}, {1800, 5.054937}, {597, 5.053345}, {1323, 5.020869}, {947, 5.0101147}, {607, 4.9807463}]|\n",
            "|596   |[{1662, 5.009604}, {998, 5.004603}, {372, 4.9458838}, {1753, 4.938416}, {903, 4.9215617}, {1101, 4.8614693}, {573, 4.837417}, {1169, 4.8349233}, {1742, 4.798128}, {842, 4.7899933}]  |\n",
            "|299   |[{451, 5.8972397}, {715, 5.879176}, {318, 5.7707763}, {944, 5.768838}, {984, 5.743972}, {1491, 5.73065}, {588, 5.713433}, {1073, 5.706902}, {1020, 5.671745}, {939, 5.6712246}]       |\n",
            "+------+--------------------------------------------------------------------------------------------------------------------------------------------------------------------------------------+\n",
            "\n"
          ],
          "name": "stdout"
        }
      ]
    },
    {
      "cell_type": "code",
      "metadata": {
        "id": "7Z4gk04rvTjX"
      },
      "source": [
        "user = df_indexed.select('user',\"userid\").distinct().filter(col(\"user\")=='A3EN2AV22EWE43')"
      ],
      "execution_count": null,
      "outputs": []
    },
    {
      "cell_type": "code",
      "metadata": {
        "colab": {
          "base_uri": "https://localhost:8080/"
        },
        "id": "YVyCwhtMxAcQ",
        "outputId": "44f54c9b-9c10-4af4-e31f-f99245f1f37a"
      },
      "source": [
        "user.show()"
      ],
      "execution_count": null,
      "outputs": [
        {
          "output_type": "stream",
          "text": [
            "+--------------+------+\n",
            "|          user|userid|\n",
            "+--------------+------+\n",
            "|A3EN2AV22EWE43|2496.0|\n",
            "+--------------+------+\n",
            "\n"
          ],
          "name": "stdout"
        }
      ]
    },
    {
      "cell_type": "code",
      "metadata": {
        "id": "fsyeDMINxE_s"
      },
      "source": [
        "userRecs = final_model.recommendForUserSubset(user.select(\"userid\"), 10)"
      ],
      "execution_count": null,
      "outputs": []
    },
    {
      "cell_type": "code",
      "metadata": {
        "id": "BYhNUYe_1qgB"
      },
      "source": [
        ""
      ],
      "execution_count": null,
      "outputs": []
    },
    {
      "cell_type": "code",
      "metadata": {
        "colab": {
          "base_uri": "https://localhost:8080/"
        },
        "id": "gfzf76NDzKvu",
        "outputId": "cb8d17cd-421c-4e78-c6ad-9c2904b2a616"
      },
      "source": [
        "userRecs.show(5,False)"
      ],
      "execution_count": null,
      "outputs": [
        {
          "output_type": "stream",
          "text": [
            "+------+---------------------------------------------------------------------------------------------------------------------------------------------------------------------------------------+\n",
            "|userid|recommendations                                                                                                                                                                        |\n",
            "+------+---------------------------------------------------------------------------------------------------------------------------------------------------------------------------------------+\n",
            "|2496  |[{1535, 4.835552}, {1268, 4.8165054}, {1142, 4.815558}, {1080, 4.814888}, {1249, 4.750426}, {1577, 4.6716714}, {1204, 4.649025}, {1585, 4.6378865}, {1371, 4.588948}, {871, 4.5568895}]|\n",
            "+------+---------------------------------------------------------------------------------------------------------------------------------------------------------------------------------------+\n",
            "\n"
          ],
          "name": "stdout"
        }
      ]
    },
    {
      "cell_type": "code",
      "metadata": {
        "colab": {
          "base_uri": "https://localhost:8080/"
        },
        "id": "zjDb3chTzVQL",
        "outputId": "7af9b399-9952-40a7-a235-0c9b262f25df"
      },
      "source": [
        "import pandas as pd\n",
        "recs = userRecs.select(\"recommendations\").collect()[0][0]\n",
        "pdf = pd.DataFrame(recs, columns = ['itemiD','rating1'])\n",
        "print(pdf)\n"
      ],
      "execution_count": null,
      "outputs": [
        {
          "output_type": "stream",
          "text": [
            "   itemiD   rating1\n",
            "0    1535  4.835552\n",
            "1    1268  4.816505\n",
            "2    1142  4.815558\n",
            "3    1080  4.814888\n",
            "4    1249  4.750426\n",
            "5    1577  4.671671\n",
            "6    1204  4.649025\n",
            "7    1585  4.637887\n",
            "8    1371  4.588948\n",
            "9     871  4.556890\n"
          ],
          "name": "stdout"
        }
      ]
    },
    {
      "cell_type": "code",
      "metadata": {
        "id": "BMCfiCSR4RYs"
      },
      "source": [
        "sparkDF2 = spark.createDataFrame(pdf)"
      ],
      "execution_count": null,
      "outputs": []
    },
    {
      "cell_type": "code",
      "metadata": {
        "id": "xG98Lqfo22Jz"
      },
      "source": [
        "df3=sparkDF2.join(df_indexed,\"itemId\")"
      ],
      "execution_count": null,
      "outputs": []
    },
    {
      "cell_type": "markdown",
      "metadata": {
        "id": "EKWwkWdx52D1"
      },
      "source": [
        "The 10 products recommended for the user (reviewer): A3EN2AV22EWE43 & the predicted ratings of the 10 products.\n"
      ]
    },
    {
      "cell_type": "code",
      "metadata": {
        "colab": {
          "base_uri": "https://localhost:8080/"
        },
        "id": "s6FI8zGM4jfL",
        "outputId": "5a75cfee-41bf-43cf-b119-58878b1f1b0c"
      },
      "source": [
        "print(\"The 10 products recommended for the user (reviewer): A3EN2AV22EWE43 \")\n",
        "\n",
        "df3.select(\"itemiD\",\"rating1\",\"asin\").distinct().show()"
      ],
      "execution_count": null,
      "outputs": [
        {
          "output_type": "stream",
          "text": [
            "The 10 products recommended for the user (reviewer): A3EN2AV22EWE43 \n",
            "+------+------------------+----------+\n",
            "|itemiD|           rating1|      asin|\n",
            "+------+------------------+----------+\n",
            "|  1585|4.6378865242004395|B000SQFD4O|\n",
            "|  1142| 4.815557956695557|B0007O8S58|\n",
            "|  1535| 4.835552215576172|B000FQ7L8I|\n",
            "|  1577| 4.671671390533447|B000PWZR4C|\n",
            "|  1080| 4.814888000488281|B005JU5UEW|\n",
            "|  1371| 4.588947772979736|B009D3E36W|\n",
            "|  1268| 4.816505432128906|B001VZL2LO|\n",
            "|   871| 4.556889533996582|B003IOITRG|\n",
            "|  1204| 4.649024963378906|B000I14RY6|\n",
            "|  1249| 4.750425815582275|B001EAWNVY|\n",
            "+------+------------------+----------+\n",
            "\n"
          ],
          "name": "stdout"
        }
      ]
    }
  ]
}