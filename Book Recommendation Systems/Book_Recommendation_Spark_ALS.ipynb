{
  "nbformat": 4,
  "nbformat_minor": 0,
  "metadata": {
    "colab": {
      "name": "Book_Recommendation_Spark_ALS.ipynb",
      "provenance": []
    },
    "kernelspec": {
      "name": "python3",
      "display_name": "Python 3"
    },
    "language_info": {
      "name": "python"
    }
  },
  "cells": [
    {
      "cell_type": "code",
      "metadata": {
        "colab": {
          "base_uri": "https://localhost:8080/"
        },
        "id": "iFMijBB4e6Gu",
        "outputId": "0a3b3531-9a2b-4c32-f1ed-e5a1bb46344a"
      },
      "source": [
        "!pip install pyspark "
      ],
      "execution_count": null,
      "outputs": [
        {
          "output_type": "stream",
          "text": [
            "Requirement already satisfied: pyspark in /usr/local/lib/python3.7/dist-packages (3.1.1)\n",
            "Requirement already satisfied: py4j==0.10.9 in /usr/local/lib/python3.7/dist-packages (from pyspark) (0.10.9)\n"
          ],
          "name": "stdout"
        }
      ]
    },
    {
      "cell_type": "markdown",
      "metadata": {
        "id": "IjwjC90rHij6"
      },
      "source": [
        "#user permission "
      ]
    },
    {
      "cell_type": "code",
      "metadata": {
        "colab": {
          "base_uri": "https://localhost:8080/"
        },
        "id": "MLDTdXQsfOuq",
        "outputId": "bd0be55b-c585-4e07-ae95-a6278494f0ce"
      },
      "source": [
        "from google.colab import drive\n",
        "drive.mount('/content/gdrive')"
      ],
      "execution_count": null,
      "outputs": [
        {
          "output_type": "stream",
          "text": [
            "Drive already mounted at /content/gdrive; to attempt to forcibly remount, call drive.mount(\"/content/gdrive\", force_remount=True).\n"
          ],
          "name": "stdout"
        }
      ]
    },
    {
      "cell_type": "code",
      "metadata": {
        "id": "faRJlDQsgEPL"
      },
      "source": [
        "import os\n",
        "os.environ['KAGGLE_CONFIG_DIR'] = \"/content/gdrive/MyDrive/\""
      ],
      "execution_count": null,
      "outputs": []
    },
    {
      "cell_type": "markdown",
      "metadata": {
        "id": "ARKhKR-1Hmns"
      },
      "source": [
        "#data collection "
      ]
    },
    {
      "cell_type": "code",
      "metadata": {
        "colab": {
          "base_uri": "https://localhost:8080/"
        },
        "id": "AjcGMY_CgP7z",
        "outputId": "2e2924f7-3f8f-443d-c813-4f2c01502b1d"
      },
      "source": [
        "!kaggle datasets download -d zygmunt/goodbooks-10k"
      ],
      "execution_count": null,
      "outputs": [
        {
          "output_type": "stream",
          "text": [
            "Downloading goodbooks-10k.zip to /content\n",
            " 60% 7.00M/11.6M [00:00<00:00, 72.0MB/s]\n",
            "100% 11.6M/11.6M [00:00<00:00, 74.6MB/s]\n"
          ],
          "name": "stdout"
        }
      ]
    },
    {
      "cell_type": "code",
      "metadata": {
        "colab": {
          "base_uri": "https://localhost:8080/"
        },
        "id": "xZrwJorfgafb",
        "outputId": "ca241607-0759-4288-ec47-35d2c41b8bf0"
      },
      "source": [
        "!ls"
      ],
      "execution_count": null,
      "outputs": [
        {
          "output_type": "stream",
          "text": [
            "books.csv      gdrive\t\t  ratings.csv\t   sample_data\tto_read.csv\n",
            "book_tags.csv  goodbooks-10k.zip  sample_book.xml  tags.csv\n"
          ],
          "name": "stdout"
        }
      ]
    },
    {
      "cell_type": "code",
      "metadata": {
        "colab": {
          "base_uri": "https://localhost:8080/"
        },
        "id": "Qx_LCc3AghuT",
        "outputId": "79775797-6d2a-4808-c7fd-f8a8467e08e0"
      },
      "source": [
        "!unzip \\*.zip  && rm *.zip"
      ],
      "execution_count": null,
      "outputs": [
        {
          "output_type": "stream",
          "text": [
            "Archive:  goodbooks-10k.zip\n",
            "replace book_tags.csv? [y]es, [n]o, [A]ll, [N]one, [r]ename: y\n",
            "  inflating: book_tags.csv           \n",
            "replace books.csv? [y]es, [n]o, [A]ll, [N]one, [r]ename: y\n",
            "  inflating: books.csv               \n",
            "replace ratings.csv? [y]es, [n]o, [A]ll, [N]one, [r]ename: y\n",
            "  inflating: ratings.csv             \n",
            "replace sample_book.xml? [y]es, [n]o, [A]ll, [N]one, [r]ename: y\n",
            "  inflating: sample_book.xml         \n",
            "replace tags.csv? [y]es, [n]o, [A]ll, [N]one, [r]ename: y\n",
            "  inflating: tags.csv                \n",
            "replace to_read.csv? [y]es, [n]o, [A]ll, [N]one, [r]ename: y\n",
            "  inflating: to_read.csv             \n"
          ],
          "name": "stdout"
        }
      ]
    },
    {
      "cell_type": "code",
      "metadata": {
        "id": "NX3Ezqmsgm4F"
      },
      "source": [
        "import pyspark as ps\n",
        "from pyspark.sql import SQLContext\n",
        "from pyspark.ml.evaluation import RegressionEvaluator##Error evaluator\n",
        "from pyspark.ml.tuning import CrossValidator, ParamGridBuilder## Hyper parameters\n",
        "from pyspark.ml import Pipeline\n",
        "from pyspark.sql import Row\n",
        "from pyspark.ml.recommendation import ALS\n",
        "from pyspark.sql.functions import udf, col, when\n",
        "import numpy as np\n"
      ],
      "execution_count": null,
      "outputs": []
    },
    {
      "cell_type": "code",
      "metadata": {
        "id": "FW0j1xjugrc1"
      },
      "source": [
        "spark = ps.sql.SparkSession.builder \\\n",
        "            .master(\"local\") \\\n",
        "            .appName(\"book\") \\\n",
        "            .getOrCreate() \n",
        "            \n",
        "sc = spark.sparkContext \n",
        "sqlContext = SQLContext(sc)"
      ],
      "execution_count": null,
      "outputs": []
    },
    {
      "cell_type": "code",
      "metadata": {
        "colab": {
          "base_uri": "https://localhost:8080/"
        },
        "id": "5Cdv2vBZgzDu",
        "outputId": "6c2ab791-8b00-4e09-daba-0905e75480b3"
      },
      "source": [
        "ratings_df = spark.read.csv('/content/ratings.csv',header=True, inferSchema=True)\n",
        "ratings_df.printSchema()"
      ],
      "execution_count": null,
      "outputs": [
        {
          "output_type": "stream",
          "text": [
            "root\n",
            " |-- book_id: integer (nullable = true)\n",
            " |-- user_id: integer (nullable = true)\n",
            " |-- rating: integer (nullable = true)\n",
            "\n"
          ],
          "name": "stdout"
        }
      ]
    },
    {
      "cell_type": "code",
      "metadata": {
        "colab": {
          "base_uri": "https://localhost:8080/"
        },
        "id": "ILYfyuz3g6DZ",
        "outputId": "b6040221-ee06-459b-d0af-91744ad8700a"
      },
      "source": [
        "ratings_df.show(5)"
      ],
      "execution_count": null,
      "outputs": [
        {
          "output_type": "stream",
          "text": [
            "+-------+-------+------+\n",
            "|book_id|user_id|rating|\n",
            "+-------+-------+------+\n",
            "|      1|    314|     5|\n",
            "|      1|    439|     3|\n",
            "|      1|    588|     5|\n",
            "|      1|   1169|     4|\n",
            "|      1|   1185|     4|\n",
            "+-------+-------+------+\n",
            "only showing top 5 rows\n",
            "\n"
          ],
          "name": "stdout"
        }
      ]
    },
    {
      "cell_type": "code",
      "metadata": {
        "colab": {
          "base_uri": "https://localhost:8080/"
        },
        "id": "q4U4kB7Cg-e4",
        "outputId": "e4578871-49ee-44c1-fdde-75def9537a87"
      },
      "source": [
        "books_df = spark.read.csv('/content/books.csv',header=True, inferSchema=True) \n",
        "books_df.printSchema()"
      ],
      "execution_count": null,
      "outputs": [
        {
          "output_type": "stream",
          "text": [
            "root\n",
            " |-- id: integer (nullable = true)\n",
            " |-- book_id: integer (nullable = true)\n",
            " |-- best_book_id: integer (nullable = true)\n",
            " |-- work_id: integer (nullable = true)\n",
            " |-- books_count: integer (nullable = true)\n",
            " |-- isbn: string (nullable = true)\n",
            " |-- isbn13: double (nullable = true)\n",
            " |-- authors: string (nullable = true)\n",
            " |-- original_publication_year: double (nullable = true)\n",
            " |-- original_title: string (nullable = true)\n",
            " |-- title: string (nullable = true)\n",
            " |-- language_code: string (nullable = true)\n",
            " |-- average_rating: string (nullable = true)\n",
            " |-- ratings_count: string (nullable = true)\n",
            " |-- work_ratings_count: string (nullable = true)\n",
            " |-- work_text_reviews_count: string (nullable = true)\n",
            " |-- ratings_1: double (nullable = true)\n",
            " |-- ratings_2: integer (nullable = true)\n",
            " |-- ratings_3: integer (nullable = true)\n",
            " |-- ratings_4: integer (nullable = true)\n",
            " |-- ratings_5: integer (nullable = true)\n",
            " |-- image_url: string (nullable = true)\n",
            " |-- small_image_url: string (nullable = true)\n",
            "\n"
          ],
          "name": "stdout"
        }
      ]
    },
    {
      "cell_type": "code",
      "metadata": {
        "colab": {
          "base_uri": "https://localhost:8080/"
        },
        "id": "_tr-IljEhDBN",
        "outputId": "f409fcd2-9987-43df-9fdb-48f5f3758dda"
      },
      "source": [
        "books_df.show(1)"
      ],
      "execution_count": null,
      "outputs": [
        {
          "output_type": "stream",
          "text": [
            "+---+-------+------------+-------+-----------+---------+----------------+---------------+-------------------------+----------------+--------------------+-------------+--------------+-------------+------------------+-----------------------+---------+---------+---------+---------+---------+--------------------+--------------------+\n",
            "| id|book_id|best_book_id|work_id|books_count|     isbn|          isbn13|        authors|original_publication_year|  original_title|               title|language_code|average_rating|ratings_count|work_ratings_count|work_text_reviews_count|ratings_1|ratings_2|ratings_3|ratings_4|ratings_5|           image_url|     small_image_url|\n",
            "+---+-------+------------+-------+-----------+---------+----------------+---------------+-------------------------+----------------+--------------------+-------------+--------------+-------------+------------------+-----------------------+---------+---------+---------+---------+---------+--------------------+--------------------+\n",
            "|  1|2767052|     2767052|2792775|        272|439023483|9.78043902348E12|Suzanne Collins|                   2008.0|The Hunger Games|The Hunger Games ...|          eng|          4.34|      4780653|           4942365|                 155254|  66715.0|   127936|   560092|  1481305|  2706317|https://images.gr...|https://images.gr...|\n",
            "+---+-------+------------+-------+-----------+---------+----------------+---------------+-------------------------+----------------+--------------------+-------------+--------------+-------------+------------------+-----------------------+---------+---------+---------+---------+---------+--------------------+--------------------+\n",
            "only showing top 1 row\n",
            "\n"
          ],
          "name": "stdout"
        }
      ]
    },
    {
      "cell_type": "code",
      "metadata": {
        "id": "gT6EmUOfhIS0"
      },
      "source": [
        "training_df, validation_df = ratings_df.randomSplit([.8, .2])"
      ],
      "execution_count": null,
      "outputs": []
    },
    {
      "cell_type": "code",
      "metadata": {
        "id": "aLgzFWIZhQfo"
      },
      "source": [
        "iterations = 10  # hyper parameters\n",
        "regularization_parameter = 0.1\n",
        "rank= 4\n",
        "errors = []\n",
        "err = 0"
      ],
      "execution_count": null,
      "outputs": []
    },
    {
      "cell_type": "code",
      "metadata": {
        "colab": {
          "base_uri": "https://localhost:8080/"
        },
        "id": "SqHTMmtHhU-K",
        "outputId": "e3f3bdcf-4a3e-4d62-c0f6-54bd02b45f65"
      },
      "source": [
        "als = ALS(maxIter=iterations, regParam=regularization_parameter, rank=4, userCol=\"user_id\", itemCol=\"book_id\", ratingCol=\"rating\")\n",
        "model = als.fit(training_df)\n",
        "predictions = model.transform(validation_df)\n",
        "new_predictions = predictions.filter(col('prediction') != np.nan)\n",
        "evaluator = RegressionEvaluator(metricName=\"rmse\", labelCol=\"rating\", predictionCol=\"prediction\")\n",
        "rmse = evaluator.evaluate(new_predictions)\n",
        "print(\"Root-mean-square error = \" + str(rmse))"
      ],
      "execution_count": null,
      "outputs": [
        {
          "output_type": "stream",
          "text": [
            "Root-mean-square error = 0.8925807704858223\n"
          ],
          "name": "stdout"
        }
      ]
    },
    {
      "cell_type": "code",
      "metadata": {
        "colab": {
          "base_uri": "https://localhost:8080/"
        },
        "id": "hEwSQ-zNhm2D",
        "outputId": "5c02e276-5d5b-4121-c532-f52915b9a79e"
      },
      "source": [
        "als = ALS(maxIter=iterations, regParam=regularization_parameter, rank=5, userCol=\"user_id\", itemCol=\"book_id\", ratingCol=\"rating\")\n",
        "model = als.fit(training_df)\n",
        "predictions = model.transform(validation_df)\n",
        "new_predictions = predictions.filter(col('prediction') != np.nan)\n",
        "evaluator = RegressionEvaluator(metricName=\"rmse\", labelCol=\"rating\", predictionCol=\"prediction\")\n",
        "rmse = evaluator.evaluate(new_predictions)\n",
        "print(\"Root-mean-square error = \" + str(rmse))"
      ],
      "execution_count": null,
      "outputs": [
        {
          "output_type": "stream",
          "text": [
            "Root-mean-square error = 0.8973921056251999\n"
          ],
          "name": "stdout"
        }
      ]
    },
    {
      "cell_type": "code",
      "metadata": {
        "colab": {
          "base_uri": "https://localhost:8080/"
        },
        "id": "lurCWEGohp-y",
        "outputId": "98a2ecee-4d90-473a-f691-2daf27497ff7"
      },
      "source": [
        "for rank in range(4,10):\n",
        "    als = ALS(maxIter=iterations, regParam=regularization_parameter, rank=rank, userCol=\"user_id\", itemCol=\"book_id\", ratingCol=\"rating\")\n",
        "    model = als.fit(training_df)\n",
        "    predictions = model.transform(validation_df)\n",
        "    new_predictions = predictions.filter(col('prediction') != np.nan)\n",
        "    evaluator = RegressionEvaluator(metricName=\"rmse\", labelCol=\"rating\", predictionCol=\"prediction\")\n",
        "    rmse = evaluator.evaluate(new_predictions)\n",
        "    print(\"Rank :\", rank, \" Root-mean-square error = \" + str(rmse))"
      ],
      "execution_count": null,
      "outputs": [
        {
          "output_type": "stream",
          "text": [
            "Rank : 4  Root-mean-square error = 0.8925807704858223\n",
            "Rank : 5  Root-mean-square error = 0.8973921056251999\n",
            "Rank : 6  Root-mean-square error = 0.9053897482016939\n",
            "Rank : 7  Root-mean-square error = 0.9050715916454043\n",
            "Rank : 8  Root-mean-square error = 0.9093935771680887\n",
            "Rank : 9  Root-mean-square error = 0.9075254662729587\n"
          ],
          "name": "stdout"
        }
      ]
    },
    {
      "cell_type": "code",
      "metadata": {
        "id": "TXMRTnbth4UZ"
      },
      "source": [
        "als = ALS(maxIter=iterations, regParam=regularization_parameter, rank=rank, userCol=\"user_id\", itemCol=\"book_id\", ratingCol=\"rating\")\n",
        "paramGrid = ParamGridBuilder() \\\n",
        "    .addGrid(als.regParam, [0.1, 0.01, 0.18]) \\\n",
        "    .addGrid(als.rank, range(4, 6)) \\\n",
        "    .build()\n",
        "evaluator = RegressionEvaluator(metricName=\"rmse\", labelCol=\"rating\", predictionCol=\"prediction\")\n",
        "crossval = CrossValidator(estimator=als,\n",
        "                          estimatorParamMaps=paramGrid,\n",
        "                          evaluator=evaluator,\n",
        "                          numFolds=5)\n",
        "cvModel = crossval.fit(training_df)"
      ],
      "execution_count": null,
      "outputs": []
    },
    {
      "cell_type": "code",
      "metadata": {
        "colab": {
          "base_uri": "https://localhost:8080/"
        },
        "id": "KjqO8QD0iC5i",
        "outputId": "080e9ee7-7d0c-4a48-9d69-b93048faa322"
      },
      "source": [
        "cvModel_pred = cvModel.transform(validation_df)\n",
        "cvModel_pred = cvModel_pred.filter(col('prediction') != np.nan)\n",
        "rmse = evaluator.evaluate(cvModel_pred)\n",
        "print(\"the rmse for optimal grid parameters with cross validation is: {}\".format(rmse))"
      ],
      "execution_count": null,
      "outputs": [
        {
          "output_type": "stream",
          "text": [
            "the rmse for optimal grid parameters with cross validation is: 0.8925807704858223\n"
          ],
          "name": "stdout"
        }
      ]
    },
    {
      "cell_type": "code",
      "metadata": {
        "id": "9C1bCkJiiIiP"
      },
      "source": [
        "final_als = ALS(maxIter=10, regParam=0.1, rank=4, userCol=\"user_id\", itemCol=\"book_id\", ratingCol=\"rating\")\n",
        "final_model = final_als.fit(training_df)"
      ],
      "execution_count": null,
      "outputs": []
    },
    {
      "cell_type": "code",
      "metadata": {
        "colab": {
          "base_uri": "https://localhost:8080/"
        },
        "id": "6aW3ry6uiLrS",
        "outputId": "c963df99-7ae9-432c-d4b8-75a7930e8eea"
      },
      "source": [
        "predictions = final_model.transform(validation_df)\n",
        "predictions.show(n = 10)"
      ],
      "execution_count": null,
      "outputs": [
        {
          "output_type": "stream",
          "text": [
            "+-------+-------+------+----------+\n",
            "|book_id|user_id|rating|prediction|\n",
            "+-------+-------+------+----------+\n",
            "|    148|   9731|     3| 3.0030193|\n",
            "|    148|  12466|     4| 3.1381116|\n",
            "|    148|  13879|     3| 3.2262616|\n",
            "|    148|  32055|     3| 3.1987736|\n",
            "|    148|  33065|     3| 3.5883656|\n",
            "|    148|   5461|     4| 3.6112263|\n",
            "|    148|  29031|     3| 3.5538063|\n",
            "|    148|  23576|     3| 2.8466086|\n",
            "|    148|  22534|     4|   3.44595|\n",
            "|    148|  11272|     3|  3.031197|\n",
            "+-------+-------+------+----------+\n",
            "only showing top 10 rows\n",
            "\n"
          ],
          "name": "stdout"
        }
      ]
    },
    {
      "cell_type": "code",
      "metadata": {
        "colab": {
          "base_uri": "https://localhost:8080/"
        },
        "id": "4D3RZDVsifMU",
        "outputId": "7d45caee-7a8f-4c0a-b259-ff096b43af85"
      },
      "source": [
        "predictions.join(books_df, \"book_id\").select(\"user_id\",\"title\",\"prediction\").show(5)"
      ],
      "execution_count": null,
      "outputs": [
        {
          "output_type": "stream",
          "text": [
            "+-------+----------+----------+\n",
            "|user_id|     title|prediction|\n",
            "+-------+----------+----------+\n",
            "|  12014|Lysistrata| 4.0821176|\n",
            "|  11326|Lysistrata| 4.0457063|\n",
            "|  52425|Lysistrata| 3.1187222|\n",
            "|  22034|Lysistrata| 3.5640483|\n",
            "|   3721|Lysistrata| 3.6449559|\n",
            "+-------+----------+----------+\n",
            "only showing top 5 rows\n",
            "\n"
          ],
          "name": "stdout"
        }
      ]
    },
    {
      "cell_type": "code",
      "metadata": {
        "colab": {
          "base_uri": "https://localhost:8080/"
        },
        "id": "PkmaCW4blqBg",
        "outputId": "272d73ba-5623-41a8-d2b3-c498c134aad9"
      },
      "source": [
        "for_one_user = predictions.filter(col(\"user_id\")==35982).join(books_df, \"book_id\").select(\"user_id\",\"title\",\"image_url\",\"prediction\")\n",
        "\n",
        "for_one_user.count()"
      ],
      "execution_count": null,
      "outputs": [
        {
          "output_type": "execute_result",
          "data": {
            "text/plain": [
              "5"
            ]
          },
          "metadata": {
            "tags": []
          },
          "execution_count": 24
        }
      ]
    },
    {
      "cell_type": "code",
      "metadata": {
        "colab": {
          "base_uri": "https://localhost:8080/"
        },
        "id": "Ts8K_gwKlv-K",
        "outputId": "07a521a5-ab6b-4685-db04-31ba923654f6"
      },
      "source": [
        "for_one_user.show()"
      ],
      "execution_count": null,
      "outputs": [
        {
          "output_type": "stream",
          "text": [
            "+-------+--------------------+--------------------+----------+\n",
            "|user_id|               title|           image_url|prediction|\n",
            "+-------+--------------------+--------------------+----------+\n",
            "|  35982|The Language Inst...|https://s.gr-asse...| 3.4090939|\n",
            "|  35982|The Door Into Summer|https://images.gr...|  3.275726|\n",
            "|  35982|City of Glass (Th...|https://images.gr...| 3.7260861|\n",
            "|  35982|Veronika Decides ...|https://s.gr-asse...|   3.92961|\n",
            "|  35982|J.R.R. Tolkien 4-...|https://images.gr...| 3.6625726|\n",
            "+-------+--------------------+--------------------+----------+\n",
            "\n"
          ],
          "name": "stdout"
        }
      ]
    },
    {
      "cell_type": "code",
      "metadata": {
        "id": "Fb1PfBAal5Oy"
      },
      "source": [
        "# Generate top 5 books recommendations for each user\n",
        "userRecomments = final_model.recommendForAllUsers(5)\n",
        "# Generate top 5 user recommendations for each movie\n",
        "bookRecomments = final_model.recommendForAllItems(5)"
      ],
      "execution_count": null,
      "outputs": []
    },
    {
      "cell_type": "code",
      "metadata": {
        "colab": {
          "base_uri": "https://localhost:8080/"
        },
        "id": "pdHHW0hTl_FF",
        "outputId": "85270af4-59ec-42b2-d5cd-fe85e1622959"
      },
      "source": [
        "userRecomments.printSchema()"
      ],
      "execution_count": null,
      "outputs": [
        {
          "output_type": "stream",
          "text": [
            "root\n",
            " |-- user_id: integer (nullable = false)\n",
            " |-- recommendations: array (nullable = true)\n",
            " |    |-- element: struct (containsNull = true)\n",
            " |    |    |-- book_id: integer (nullable = true)\n",
            " |    |    |-- rating: float (nullable = true)\n",
            "\n"
          ],
          "name": "stdout"
        }
      ]
    },
    {
      "cell_type": "code",
      "metadata": {
        "colab": {
          "base_uri": "https://localhost:8080/"
        },
        "id": "96sRYFgymC-s",
        "outputId": "e232b970-28f4-4ed9-fc40-1dc8ca17695a"
      },
      "source": [
        "userRecomments.select(\"user_id\",\"recommendations.book_id\").show(10, False)"
      ],
      "execution_count": null,
      "outputs": [
        {
          "output_type": "stream",
          "text": [
            "+-------+------------------------------+\n",
            "|user_id|book_id                       |\n",
            "+-------+------------------------------+\n",
            "|148    |[3628, 9076, 9842, 6920, 4868]|\n",
            "|463    |[4154, 9842, 8703, 8913, 9076]|\n",
            "|471    |[1180, 6425, 1338, 8233, 4653]|\n",
            "|496    |[1338, 4344, 5978, 9531, 6425]|\n",
            "|833    |[8548, 5753, 1577, 7844, 7947]|\n",
            "|1088   |[4868, 6902, 3628, 8187, 9076]|\n",
            "|1238   |[8498, 3239, 4881, 712, 9531] |\n",
            "|1342   |[3628, 5207, 9842, 1788, 7844]|\n",
            "|1580   |[1338, 4653, 6425, 9076, 6902]|\n",
            "|1591   |[1338, 6425, 8233, 4653, 5435]|\n",
            "+-------+------------------------------+\n",
            "only showing top 10 rows\n",
            "\n"
          ],
          "name": "stdout"
        }
      ]
    },
    {
      "cell_type": "code",
      "metadata": {
        "colab": {
          "base_uri": "https://localhost:8080/"
        },
        "id": "i6d5E2ajmIkz",
        "outputId": "92061bb2-232e-4957-c795-f4bb7e899bea"
      },
      "source": [
        "bookRecomments.select(\"book_id\",\"recommendations.user_id\").show(10, False)"
      ],
      "execution_count": null,
      "outputs": [
        {
          "output_type": "stream",
          "text": [
            "+-------+-----------------------------------+\n",
            "|book_id|user_id                            |\n",
            "+-------+-----------------------------------+\n",
            "|1580   |[14734, 4421, 34886, 41826, 38723] |\n",
            "|4900   |[31285, 23124, 49360, 38723, 11499]|\n",
            "|5300   |[14168, 14518, 15994, 38723, 11963]|\n",
            "|6620   |[14734, 17505, 21408, 19528, 41826]|\n",
            "|7240   |[45195, 4421, 50073, 27190, 19528] |\n",
            "|7340   |[45195, 14734, 27190, 4421, 19528] |\n",
            "|7880   |[14734, 41826, 6677, 4421, 19528]  |\n",
            "|9900   |[45195, 41665, 47531, 50062, 9448] |\n",
            "|471    |[38723, 34886, 4421, 5527, 33340]  |\n",
            "|1591   |[14734, 4421, 41826, 19528, 45195] |\n",
            "+-------+-----------------------------------+\n",
            "only showing top 10 rows\n",
            "\n"
          ],
          "name": "stdout"
        }
      ]
    },
    {
      "cell_type": "code",
      "metadata": {
        "colab": {
          "base_uri": "https://localhost:8080/"
        },
        "id": "2u3Eg8n3mh8I",
        "outputId": "ea2a7a81-46c7-4cab-e115-556e0ea63600"
      },
      "source": [
        "# Generate top 10 Book recommendations for a specified set of users\n",
        "users = ratings_df.select(\"user_id\").distinct().limit(3);\n",
        "users.show()"
      ],
      "execution_count": null,
      "outputs": [
        {
          "output_type": "stream",
          "text": [
            "+-------+\n",
            "|user_id|\n",
            "+-------+\n",
            "|  32592|\n",
            "|  19984|\n",
            "|  35982|\n",
            "+-------+\n",
            "\n"
          ],
          "name": "stdout"
        }
      ]
    },
    {
      "cell_type": "code",
      "metadata": {
        "id": "V3owCpKEmlc4"
      },
      "source": [
        "userSubsetRecs = model.recommendForUserSubset(users, 10)"
      ],
      "execution_count": null,
      "outputs": []
    },
    {
      "cell_type": "code",
      "metadata": {
        "colab": {
          "base_uri": "https://localhost:8080/"
        },
        "id": "fJU9-klfmqeF",
        "outputId": "68da93d9-9468-4be3-8e31-198e4a8ff755"
      },
      "source": [
        "userSubsetRecs.select(\"user_id\",\"recommendations.book_id\").show(10, False)"
      ],
      "execution_count": null,
      "outputs": [
        {
          "output_type": "stream",
          "text": [
            "+-------+------------------------------------------------------------+\n",
            "|user_id|book_id                                                     |\n",
            "+-------+------------------------------------------------------------+\n",
            "|32592  |[9842, 3628, 3491, 862, 5207, 6920, 267, 8926, 3753, 5794]  |\n",
            "|35982  |[5346, 6966, 1146, 3174, 4828, 3628, 4640, 7988, 2698, 4906]|\n",
            "|19984  |[9842, 9076, 1618, 862, 2940, 8926, 307, 5384, 4778, 8521]  |\n",
            "+-------+------------------------------------------------------------+\n",
            "\n"
          ],
          "name": "stdout"
        }
      ]
    },
    {
      "cell_type": "code",
      "metadata": {
        "id": "gBbhWSEG3E72"
      },
      "source": [
        ""
      ],
      "execution_count": null,
      "outputs": []
    },
    {
      "cell_type": "code",
      "metadata": {
        "colab": {
          "base_uri": "https://localhost:8080/"
        },
        "id": "a4v0-Mu8mvhI",
        "outputId": "16a26d4b-7650-4e32-a544-5b977f9c0721"
      },
      "source": [
        "# Generate top 10 user recommendations for a specified set of books\n",
        "book_id = ratings_df.select(\"book_id\").distinct().limit(3)\n",
        "book_id.show()"
      ],
      "execution_count": null,
      "outputs": [
        {
          "output_type": "stream",
          "text": [
            "+-------+\n",
            "|book_id|\n",
            "+-------+\n",
            "|    148|\n",
            "|    463|\n",
            "|    471|\n",
            "+-------+\n",
            "\n"
          ],
          "name": "stdout"
        }
      ]
    },
    {
      "cell_type": "code",
      "metadata": {
        "id": "_sEDqcPzuGuH"
      },
      "source": [
        "bookSubSetRecs = model.recommendForItemSubset(book_id, 10)\n"
      ],
      "execution_count": null,
      "outputs": []
    },
    {
      "cell_type": "code",
      "metadata": {
        "colab": {
          "base_uri": "https://localhost:8080/"
        },
        "id": "qGX_7N80vYwe",
        "outputId": "cecffeb7-a704-4d8b-92e4-3c190f25d84e"
      },
      "source": [
        "movieSubSetRecs.select(\"book_id\",\"recommendations.user_id\").show(10, False)"
      ],
      "execution_count": null,
      "outputs": [
        {
          "output_type": "stream",
          "text": [
            "+-------+--------------------------------------------------------------------+\n",
            "|book_id|user_id                                                             |\n",
            "+-------+--------------------------------------------------------------------+\n",
            "|471    |[8963, 5527, 51190, 38948, 48274, 28953, 42821, 19039, 18299, 37581]|\n",
            "|463    |[8963, 25880, 52593, 34886, 41085, 27969, 2404, 36436, 45534, 37812]|\n",
            "|148    |[8963, 15449, 5527, 41085, 47759, 19031, 28953, 46980, 12353, 34886]|\n",
            "+-------+--------------------------------------------------------------------+\n",
            "\n"
          ],
          "name": "stdout"
        }
      ]
    },
    {
      "cell_type": "code",
      "metadata": {
        "id": "GA3Yo-0_vlcI"
      },
      "source": [
        "book_ids = [860,1524,2885,2914,5297,7397,8802,9506]\n",
        "user_ids = [4917,4917,4917,4917,4917,4917,4917,4917]\n",
        "new_user_preds = sqlContext.createDataFrame(zip(book_ids, user_ids), schema=['book_id','user_id'])"
      ],
      "execution_count": null,
      "outputs": []
    },
    {
      "cell_type": "code",
      "metadata": {
        "colab": {
          "base_uri": "https://localhost:8080/"
        },
        "id": "sMwaFuG-voZW",
        "outputId": "49e78d48-e1cf-42b1-bd8d-2afd08eff1ef"
      },
      "source": [
        "new_user_preds.show()"
      ],
      "execution_count": null,
      "outputs": [
        {
          "output_type": "stream",
          "text": [
            "+-------+-------+\n",
            "|book_id|user_id|\n",
            "+-------+-------+\n",
            "|    860|   4917|\n",
            "|   1524|   4917|\n",
            "|   2885|   4917|\n",
            "|   2914|   4917|\n",
            "|   5297|   4917|\n",
            "|   7397|   4917|\n",
            "|   8802|   4917|\n",
            "|   9506|   4917|\n",
            "+-------+-------+\n",
            "\n"
          ],
          "name": "stdout"
        }
      ]
    },
    {
      "cell_type": "code",
      "metadata": {
        "colab": {
          "base_uri": "https://localhost:8080/"
        },
        "id": "EOetsxsSvuQv",
        "outputId": "2eddd84f-4100-495a-efb2-4402c94dc07a"
      },
      "source": [
        "new_predictions = model.transform(new_user_preds)\n",
        "new_predictions.show()"
      ],
      "execution_count": null,
      "outputs": [
        {
          "output_type": "stream",
          "text": [
            "+-------+-------+----------+\n",
            "|book_id|user_id|prediction|\n",
            "+-------+-------+----------+\n",
            "|   2914|   4917| 3.3171678|\n",
            "|    860|   4917| 3.5754607|\n",
            "|   2885|   4917| 3.6640549|\n",
            "|   7397|   4917| 3.0877738|\n",
            "|   8802|   4917| 3.2406282|\n",
            "|   9506|   4917|  3.419604|\n",
            "|   1524|   4917| 3.9148278|\n",
            "|   5297|   4917|  3.591613|\n",
            "+-------+-------+----------+\n",
            "\n"
          ],
          "name": "stdout"
        }
      ]
    }
  ]
}